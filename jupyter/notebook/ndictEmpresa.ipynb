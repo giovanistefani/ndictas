{
 "cells": [
  {
   "cell_type": "code",
   "execution_count": 1,
   "metadata": {},
   "outputs": [],
   "source": [
    "%config IPCompleter.greedy=True\n",
    "import os.path\n",
    "import csv\n",
    "import petl as etl\n",
    "from collections import OrderedDict\n",
    "from azure.storage.blob import BlobServiceClient, ContainerClient, BlobClient, BlobBlock"
   ]
  },
  {
   "cell_type": "code",
   "execution_count": 2,
   "metadata": {},
   "outputs": [],
   "source": [
    "account_name='datalake2dictas'\n",
    "account_key='wlxJHcWvtVhPpL/zs6l+F1bJGKZnJ4HppZcVyh+ns32oH46E3dY/HBLau3V6um9hv+KZf/3mXEAL5nHD41X3jg=='\n",
    "container_from = 'transient'\n",
    "container_to = 'raw'\n",
    "upload_file = '/opt/jupyter_etl_dictas/datalake/transient/beneficiario/beneficiarios_atualizado.csv'\n",
    "_LOCALDIR = '/opt/jupyter_etl_dictas/datalake/transient'"
   ]
  },
  {
   "cell_type": "code",
   "execution_count": 3,
   "metadata": {},
   "outputs": [],
   "source": [
    "cc_transient = ContainerClient(account_url=f\"https://{account_name}.blob.core.windows.net/\",container_name=container_from, credential=account_key)\n",
    "cc_raw = ContainerClient(account_url=f\"https://{account_name}.blob.core.windows.net/\",container_name=container_to, credential=account_key)\n"
   ]
  },
  {
   "cell_type": "code",
   "execution_count": 6,
   "metadata": {},
   "outputs": [],
   "source": [
    "_TEMP_FILE='datalake/temp'\n",
    "_METADADOS='metadado/list.csv'\n",
    "_SOURCE='17'\n",
    "_PROC_FILES='datalake/proc'\n",
    "_NM_ARQ = 'EMPRESA.csv'"
   ]
  },
  {
   "cell_type": "markdown",
   "metadata": {},
   "source": [
    "### Carrega blob Empresa"
   ]
  },
  {
   "cell_type": "markdown",
   "metadata": {},
   "source": [
    "#### Verifica Arquivo no Container"
   ]
  },
  {
   "cell_type": "code",
   "execution_count": 10,
   "metadata": {},
   "outputs": [
    {
     "name": "stdout",
     "output_type": "stream",
     "text": [
      "BENEFICIARIO.csv\n",
      "\n",
      "EMPRESA.csv\n",
      "\n"
     ]
    }
   ],
   "source": [
    "blob_list = cc_transient.list_blobs()\n",
    "for blob in blob_list:\n",
    "    print(blob.name + '\\n')\n",
    "    "
   ]
  },
  {
   "cell_type": "markdown",
   "metadata": {},
   "source": [
    "#### Faz Download para diretório local"
   ]
  },
  {
   "cell_type": "code",
   "execution_count": 11,
   "metadata": {},
   "outputs": [],
   "source": [
    "with open (f'{_PROC_FILES}/{_SOURCE}/{_NM_ARQ}', 'wb') as data_from :\n",
    "    data_from.write(cc_transient.get_blob_client(_NM_ARQ).download_blob ().readall ())"
   ]
  },
  {
   "cell_type": "markdown",
   "metadata": {},
   "source": [
    "#### Carrega dados para transformação"
   ]
  },
  {
   "cell_type": "code",
   "execution_count": 13,
   "metadata": {},
   "outputs": [
    {
     "data": {
      "text/html": [
       "<table class='petl'>\n",
       "<thead>\n",
       "<tr>\n",
       "<th>﻿pk_empresa</th>\n",
       "<th>nome</th>\n",
       "<th>razao_social</th>\n",
       "<th>cnpj</th>\n",
       "</tr>\n",
       "</thead>\n",
       "<tbody>\n",
       "<tr>\n",
       "<td>00395988000135\t</td>\n",
       "<td>ITAIPU\t</td>\n",
       "<td>ITAIPU\t</td>\n",
       "<td>00395988000135</td>\n",
       "</tr>\n",
       "<tr>\n",
       "<td>00469585000193\t</td>\n",
       "<td>FACEB\t</td>\n",
       "<td>FACEB\t</td>\n",
       "<td>00469585000193</td>\n",
       "</tr>\n",
       "<tr>\n",
       "<td>02341467000120\t</td>\n",
       "<td>AMAZONAS ENERGIA\t</td>\n",
       "<td>AMAZONAS ENERGIA\t</td>\n",
       "<td>02341467000120</td>\n",
       "</tr>\n",
       "<tr>\n",
       "<td>02983428000127\t</td>\n",
       "<td>CEMIG TELECOM\t</td>\n",
       "<td>CEMIG TELECOM\t</td>\n",
       "<td>02983428000127</td>\n",
       "</tr>\n",
       "<tr>\n",
       "<td>03475839000174\t</td>\n",
       "<td>ROSAL ENERGIA\t</td>\n",
       "<td>ROSAL ENERGIA\t</td>\n",
       "<td>03475839000174</td>\n",
       "</tr>\n",
       "</tbody>\n",
       "</table>\n",
       "<p><strong>...</strong></p>"
      ],
      "text/plain": [
       "+--------------------+----------------------+----------------------+------------------+\n",
       "| ﻿pk_empresa        | nome                 | razao_social         | cnpj             |\n",
       "+====================+======================+======================+==================+\n",
       "| '00395988000135\\t' | 'ITAIPU\\t'           | 'ITAIPU\\t'           | '00395988000135' |\n",
       "+--------------------+----------------------+----------------------+------------------+\n",
       "| '00469585000193\\t' | 'FACEB\\t'            | 'FACEB\\t'            | '00469585000193' |\n",
       "+--------------------+----------------------+----------------------+------------------+\n",
       "| '02341467000120\\t' | 'AMAZONAS ENERGIA\\t' | 'AMAZONAS ENERGIA\\t' | '02341467000120' |\n",
       "+--------------------+----------------------+----------------------+------------------+\n",
       "| '02983428000127\\t' | 'CEMIG TELECOM\\t'    | 'CEMIG TELECOM\\t'    | '02983428000127' |\n",
       "+--------------------+----------------------+----------------------+------------------+\n",
       "| '03475839000174\\t' | 'ROSAL ENERGIA\\t'    | 'ROSAL ENERGIA\\t'    | '03475839000174' |\n",
       "+--------------------+----------------------+----------------------+------------------+\n",
       "..."
      ]
     },
     "execution_count": 13,
     "metadata": {},
     "output_type": "execute_result"
    }
   ],
   "source": [
    "table = etl.fromcsv(f'{_PROC_FILES}/{_SOURCE}/{_NM_ARQ}', delimiter='|')\n",
    "table"
   ]
  },
  {
   "cell_type": "code",
   "execution_count": 15,
   "metadata": {},
   "outputs": [
    {
     "data": {
      "text/html": [
       "<table class='petl'>\n",
       "<thead>\n",
       "<tr>\n",
       "<th>pk_empresa</th>\n",
       "<th>nome</th>\n",
       "<th>razao_social</th>\n",
       "<th>cnpj</th>\n",
       "</tr>\n",
       "</thead>\n",
       "<tbody>\n",
       "<tr>\n",
       "<td>00395988000135</td>\n",
       "<td>ITAIPU</td>\n",
       "<td>ITAIPU</td>\n",
       "<td>00395988000135</td>\n",
       "</tr>\n",
       "<tr>\n",
       "<td>00469585000193</td>\n",
       "<td>FACEB</td>\n",
       "<td>FACEB</td>\n",
       "<td>00469585000193</td>\n",
       "</tr>\n",
       "<tr>\n",
       "<td>02341467000120</td>\n",
       "<td>AMAZONAS ENERGIA</td>\n",
       "<td>AMAZONAS ENERGIA</td>\n",
       "<td>02341467000120</td>\n",
       "</tr>\n",
       "<tr>\n",
       "<td>02983428000127</td>\n",
       "<td>CEMIG TELECOM</td>\n",
       "<td>CEMIG TELECOM</td>\n",
       "<td>02983428000127</td>\n",
       "</tr>\n",
       "<tr>\n",
       "<td>03475839000174</td>\n",
       "<td>ROSAL ENERGIA</td>\n",
       "<td>ROSAL ENERGIA</td>\n",
       "<td>03475839000174</td>\n",
       "</tr>\n",
       "</tbody>\n",
       "</table>\n",
       "<p><strong>...</strong></p>"
      ],
      "text/plain": [
       "+------------------+--------------------+--------------------+------------------+\n",
       "| pk_empresa       | nome               | razao_social       | cnpj             |\n",
       "+==================+====================+====================+==================+\n",
       "| '00395988000135' | 'ITAIPU'           | 'ITAIPU'           | '00395988000135' |\n",
       "+------------------+--------------------+--------------------+------------------+\n",
       "| '00469585000193' | 'FACEB'            | 'FACEB'            | '00469585000193' |\n",
       "+------------------+--------------------+--------------------+------------------+\n",
       "| '02341467000120' | 'AMAZONAS ENERGIA' | 'AMAZONAS ENERGIA' | '02341467000120' |\n",
       "+------------------+--------------------+--------------------+------------------+\n",
       "| '02983428000127' | 'CEMIG TELECOM'    | 'CEMIG TELECOM'    | '02983428000127' |\n",
       "+------------------+--------------------+--------------------+------------------+\n",
       "| '03475839000174' | 'ROSAL ENERGIA'    | 'ROSAL ENERGIA'    | '03475839000174' |\n",
       "+------------------+--------------------+--------------------+------------------+\n",
       "..."
      ]
     },
     "execution_count": 15,
     "metadata": {},
     "output_type": "execute_result"
    }
   ],
   "source": [
    "#Retira os espaços vazios\n",
    "def rowmapper(row):\n",
    "    return [row[0].strip(),\n",
    "            row[1].strip(),\n",
    "            row[2].strip(),\n",
    "            row[3].strip()\n",
    "           ]\n",
    "\n",
    "table1 = etl.rowmap(table, rowmapper,\n",
    "                    header=['pk_empresa','nome','razao_social','cnpj'])\n",
    "table1"
   ]
  },
  {
   "cell_type": "markdown",
   "metadata": {},
   "source": [
    "#### Add fk_empresa"
   ]
  },
  {
   "cell_type": "code",
   "execution_count": 17,
   "metadata": {},
   "outputs": [],
   "source": [
    "table2 = etl.addfields(table1,[('cd_empresa',_SOURCE)])\n",
    "#table2\n",
    "etl.tocsv(table2, f'{_PROC_FILES}/{_SOURCE}/t{_NM_ARQ}', delimiter='|')"
   ]
  },
  {
   "cell_type": "code",
   "execution_count": 20,
   "metadata": {},
   "outputs": [
    {
     "name": "stdout",
     "output_type": "stream",
     "text": [
      "Tudo carregado\n"
     ]
    }
   ],
   "source": [
    "upload_file=f'{_PROC_FILES}/{_SOURCE}/t{_NM_ARQ}'\n",
    "#print(upload_file)\n",
    "try:\n",
    "    with open (upload_file, \"rb\") as data :\n",
    "        #print(data)\n",
    "        cc_raw.upload_blob(_NM_ARQ, data, overwrite = True)\n",
    "finally:\n",
    "    print(\"Tudo carregado\")"
   ]
  },
  {
   "cell_type": "markdown",
   "metadata": {},
   "source": [
    "#### Verifica se arquivo está no Blob"
   ]
  },
  {
   "cell_type": "code",
   "execution_count": 21,
   "metadata": {},
   "outputs": [
    {
     "name": "stdout",
     "output_type": "stream",
     "text": [
      "BENEFICIARIO.csv\n",
      "\n",
      "EMPRESA.csv\n",
      "\n"
     ]
    }
   ],
   "source": [
    "blob_list = cc_raw.list_blobs()\n",
    "for blob in blob_list:\n",
    "    print(blob.name + '\\n')"
   ]
  }
 ],
 "metadata": {
  "kernelspec": {
   "display_name": "Python 3",
   "language": "python",
   "name": "python3"
  },
  "language_info": {
   "codemirror_mode": {
    "name": "ipython",
    "version": 3
   },
   "file_extension": ".py",
   "mimetype": "text/x-python",
   "name": "python",
   "nbconvert_exporter": "python",
   "pygments_lexer": "ipython3",
   "version": "3.7.6"
  }
 },
 "nbformat": 4,
 "nbformat_minor": 4
}
