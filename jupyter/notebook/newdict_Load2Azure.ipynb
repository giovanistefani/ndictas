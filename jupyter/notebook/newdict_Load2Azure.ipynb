{
 "cells": [
  {
   "cell_type": "markdown",
   "metadata": {},
   "source": [
    "### Imports"
   ]
  },
  {
   "cell_type": "code",
   "execution_count": 153,
   "metadata": {},
   "outputs": [],
   "source": [
    "import glob\n",
    "import os\n",
    "import petl as etl\n",
    "import pickle\n",
    "import re"
   ]
  },
  {
   "cell_type": "markdown",
   "metadata": {},
   "source": [
    "### Cria lista de arquivos"
   ]
  },
  {
   "cell_type": "code",
   "execution_count": 154,
   "metadata": {},
   "outputs": [],
   "source": [
    "os.chdir(\"/datalake/Sinpef\")\n",
    "lista = []\n",
    "for i in glob.glob(\"*.csv\"):\n",
    "         lista.append(i)"
   ]
  },
  {
   "cell_type": "code",
   "execution_count": 186,
   "metadata": {},
   "outputs": [
    {
     "data": {
      "text/plain": [
       "['01 - empresas.csv']"
      ]
     },
     "execution_count": 186,
     "metadata": {},
     "output_type": "execute_result"
    }
   ],
   "source": [
    "lista"
   ]
  },
  {
   "cell_type": "code",
   "execution_count": 187,
   "metadata": {},
   "outputs": [
    {
     "data": {
      "text/plain": [
       "'01 - empresas.csv'"
      ]
     },
     "execution_count": 187,
     "metadata": {},
     "output_type": "execute_result"
    }
   ],
   "source": [
    "nmtabela = lista.pop()\n",
    "nmtabela"
   ]
  },
  {
   "cell_type": "code",
   "execution_count": 188,
   "metadata": {},
   "outputs": [
    {
     "data": {
      "text/html": [
       "<table class='petl'>\n",
       "<thead>\n",
       "<tr>\n",
       "<th>Cod. Empresa</th>\n",
       "<th>Nome</th>\n",
       "<th>RazÃ£o Social</th>\n",
       "<th>CNPJ</th>\n",
       "<th></th>\n",
       "</tr>\n",
       "</thead>\n",
       "<tbody>\n",
       "<tr>\n",
       "<td>1251</td>\n",
       "<td>SINPEF RS</td>\n",
       "<td>SINDICATO DOS POLICIAIS FEDERAIS DO RIO GRANDE DO SUL</td>\n",
       "<td>93.331.171/0001-84</td>\n",
       "<td></td>\n",
       "</tr>\n",
       "</tbody>\n",
       "</table>\n"
      ],
      "text/plain": [
       "+--------------+-------------+---------------------------------------------------------+----------------------+----+\n",
       "| Cod. Empresa | Nome        | RazÃ£o Social                                           | CNPJ                 |    |\n",
       "+==============+=============+=========================================================+======================+====+\n",
       "| '1251'       | 'SINPEF RS' | 'SINDICATO DOS POLICIAIS FEDERAIS DO RIO GRANDE DO SUL' | '93.331.171/0001-84' | '' |\n",
       "+--------------+-------------+---------------------------------------------------------+----------------------+----+"
      ]
     },
     "execution_count": 188,
     "metadata": {},
     "output_type": "execute_result"
    }
   ],
   "source": [
    "tb_carga = etl.fromcsv('/datalake/Sinpef/'+nmtabela, delimiter='|',encoding='Latin')\n",
    "#etl.nrows(tb_carga)\n",
    "tb_carga"
   ]
  },
  {
   "cell_type": "code",
   "execution_count": 189,
   "metadata": {},
   "outputs": [
    {
     "data": {
      "text/plain": [
       "'empresas'"
      ]
     },
     "execution_count": 189,
     "metadata": {},
     "output_type": "execute_result"
    }
   ],
   "source": [
    "result = re.search(r'[a-z]\\w+', nmtabela) \n",
    "nmarquivo = result.group(0) \n",
    "nmarquivo"
   ]
  },
  {
   "cell_type": "code",
   "execution_count": 190,
   "metadata": {},
   "outputs": [],
   "source": [
    "etl.topickle(tb_carga, '/datalake/'+nmarquivo+'.p')"
   ]
  },
  {
   "cell_type": "code",
   "execution_count": 191,
   "metadata": {},
   "outputs": [
    {
     "data": {
      "text/html": [
       "<table class='petl'>\n",
       "<thead>\n",
       "<tr>\n",
       "<th>Cod. Empresa</th>\n",
       "<th>Nome</th>\n",
       "<th>RazÃ£o Social</th>\n",
       "<th>CNPJ</th>\n",
       "<th></th>\n",
       "</tr>\n",
       "</thead>\n",
       "<tbody>\n",
       "<tr>\n",
       "<td>1251</td>\n",
       "<td>SINPEF RS</td>\n",
       "<td>SINDICATO DOS POLICIAIS FEDERAIS DO RIO GRANDE DO SUL</td>\n",
       "<td>93.331.171/0001-84</td>\n",
       "<td></td>\n",
       "</tr>\n",
       "</tbody>\n",
       "</table>\n"
      ],
      "text/plain": [
       "+--------------+-------------+---------------------------------------------------------+----------------------+----+\n",
       "| Cod. Empresa | Nome        | RazÃ£o Social                                           | CNPJ                 |    |\n",
       "+==============+=============+=========================================================+======================+====+\n",
       "| '1251'       | 'SINPEF RS' | 'SINDICATO DOS POLICIAIS FEDERAIS DO RIO GRANDE DO SUL' | '93.331.171/0001-84' | '' |\n",
       "+--------------+-------------+---------------------------------------------------------+----------------------+----+"
      ]
     },
     "execution_count": 191,
     "metadata": {},
     "output_type": "execute_result"
    }
   ],
   "source": [
    "table2 = etl.frompickle('/datalake/'+nmarquivo+'.p')\n",
    "table2"
   ]
  }
 ],
 "metadata": {
  "kernelspec": {
   "display_name": "Python 3",
   "language": "python",
   "name": "python3"
  },
  "language_info": {
   "codemirror_mode": {
    "name": "ipython",
    "version": 3
   },
   "file_extension": ".py",
   "mimetype": "text/x-python",
   "name": "python",
   "nbconvert_exporter": "python",
   "pygments_lexer": "ipython3",
   "version": "3.7.4"
  }
 },
 "nbformat": 4,
 "nbformat_minor": 4
}
