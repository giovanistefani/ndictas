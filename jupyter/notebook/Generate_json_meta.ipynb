{
 "cells": [
  {
   "cell_type": "code",
   "execution_count": 72,
   "metadata": {},
   "outputs": [],
   "source": [
    "import pandas as pd\n",
    "import json"
   ]
  },
  {
   "cell_type": "code",
   "execution_count": 73,
   "metadata": {},
   "outputs": [],
   "source": [
    "df = pd.read_csv('/datalake/transient/dictas_meta.csv')"
   ]
  },
  {
   "cell_type": "code",
   "execution_count": 74,
   "metadata": {},
   "outputs": [
    {
     "data": {
      "text/plain": [
       "0         int\n",
       "4     varchar\n",
       "6        date\n",
       "8        text\n",
       "9       float\n",
       "14       char\n",
       "16     bigint\n",
       "73       bool\n",
       "Name: tipo, dtype: object"
      ]
     },
     "execution_count": 74,
     "metadata": {},
     "output_type": "execute_result"
    }
   ],
   "source": [
    "df['tipo'].drop_duplicates()"
   ]
  },
  {
   "cell_type": "code",
   "execution_count": 75,
   "metadata": {},
   "outputs": [
    {
     "data": {
      "text/html": [
       "<div>\n",
       "<style scoped>\n",
       "    .dataframe tbody tr th:only-of-type {\n",
       "        vertical-align: middle;\n",
       "    }\n",
       "\n",
       "    .dataframe tbody tr th {\n",
       "        vertical-align: top;\n",
       "    }\n",
       "\n",
       "    .dataframe thead th {\n",
       "        text-align: right;\n",
       "    }\n",
       "</style>\n",
       "<table border=\"1\" class=\"dataframe\">\n",
       "  <thead>\n",
       "    <tr style=\"text-align: right;\">\n",
       "      <th></th>\n",
       "      <th>tabela</th>\n",
       "      <th>fields</th>\n",
       "    </tr>\n",
       "  </thead>\n",
       "  <tbody>\n",
       "    <tr>\n",
       "      <th>0</th>\n",
       "      <td>beneficiario</td>\n",
       "      <td>[{'nome': 'Cod. Beneficiário', 'nome_banco': '...</td>\n",
       "    </tr>\n",
       "    <tr>\n",
       "      <th>1</th>\n",
       "      <td>consultas</td>\n",
       "      <td>[{'nome': 'Código da consulta', 'nome_banco': ...</td>\n",
       "    </tr>\n",
       "    <tr>\n",
       "      <th>2</th>\n",
       "      <td>custo</td>\n",
       "      <td>[{'nome': 'Cod. Beneficiário', 'nome_banco': '...</td>\n",
       "    </tr>\n",
       "    <tr>\n",
       "      <th>3</th>\n",
       "      <td>diarias</td>\n",
       "      <td>[{'nome': 'Código da diária', 'nome_banco': 'f...</td>\n",
       "    </tr>\n",
       "    <tr>\n",
       "      <th>4</th>\n",
       "      <td>empresa</td>\n",
       "      <td>[{'nome': 'Cod. Empresa', 'nome_banco': 'pk_em...</td>\n",
       "    </tr>\n",
       "    <tr>\n",
       "      <th>5</th>\n",
       "      <td>prestadores</td>\n",
       "      <td>[{'nome': 'Cod. Médico/Prestador (campo chave)...</td>\n",
       "    </tr>\n",
       "    <tr>\n",
       "      <th>6</th>\n",
       "      <td>receitas</td>\n",
       "      <td>[{'nome': 'Mês Competência', 'nome_banco': 'me...</td>\n",
       "    </tr>\n",
       "    <tr>\n",
       "      <th>7</th>\n",
       "      <td>servico</td>\n",
       "      <td>[{'nome': 'Cod. Serviço', 'nome_banco': 'pk_se...</td>\n",
       "    </tr>\n",
       "    <tr>\n",
       "      <th>8</th>\n",
       "      <td>vidas</td>\n",
       "      <td>[{'nome': 'Competência', 'nome_banco': 'mes_co...</td>\n",
       "    </tr>\n",
       "  </tbody>\n",
       "</table>\n",
       "</div>"
      ],
      "text/plain": [
       "         tabela                                             fields\n",
       "0  beneficiario  [{'nome': 'Cod. Beneficiário', 'nome_banco': '...\n",
       "1     consultas  [{'nome': 'Código da consulta', 'nome_banco': ...\n",
       "2         custo  [{'nome': 'Cod. Beneficiário', 'nome_banco': '...\n",
       "3       diarias  [{'nome': 'Código da diária', 'nome_banco': 'f...\n",
       "4       empresa  [{'nome': 'Cod. Empresa', 'nome_banco': 'pk_em...\n",
       "5   prestadores  [{'nome': 'Cod. Médico/Prestador (campo chave)...\n",
       "6      receitas  [{'nome': 'Mês Competência', 'nome_banco': 'me...\n",
       "7       servico  [{'nome': 'Cod. Serviço', 'nome_banco': 'pk_se...\n",
       "8         vidas  [{'nome': 'Competência', 'nome_banco': 'mes_co..."
      ]
     },
     "execution_count": 75,
     "metadata": {},
     "output_type": "execute_result"
    }
   ],
   "source": [
    "df.groupby('tabela')\\\n",
    "     .apply(lambda x: x[['nome','nome_banco','tipo','regex']]\n",
    "            .to_dict('r'))\\\n",
    "     .reset_index()\\\n",
    ".rename(columns={0:'fields'})"
   ]
  },
  {
   "cell_type": "code",
   "execution_count": 78,
   "metadata": {},
   "outputs": [],
   "source": [
    "jsonexport = (df.groupby('tabela')\n",
    "     .apply(lambda x: x[['nome','nome_banco','tipo','regex']]\n",
    "            .to_dict('r'))\n",
    "     .reset_index()\n",
    "     .rename(columns={0:'fields'}))"
   ]
  },
  {
   "cell_type": "code",
   "execution_count": 80,
   "metadata": {},
   "outputs": [],
   "source": [
    "jsonexport.to_json('/datalake/transient/dictas_meta.json',orient='records',force_ascii=False)"
   ]
  },
  {
   "cell_type": "code",
   "execution_count": 48,
   "metadata": {},
   "outputs": [],
   "source": [
    "with open('dictas_meta.json','rb') as meta:\n",
    "    metadados = json.load(meta)"
   ]
  },
  {
   "cell_type": "code",
   "execution_count": 51,
   "metadata": {},
   "outputs": [],
   "source": [
    "def consult_params_table(tb_name, col): \n",
    "    for x in metadados:\n",
    "        if x['tabela'] == tb_name:\n",
    "            return [y[col] for y in x['fields']]"
   ]
  },
  {
   "cell_type": "code",
   "execution_count": 54,
   "metadata": {},
   "outputs": [],
   "source": [
    "tipo = consult_params_table('vidas', 'tipo')"
   ]
  },
  {
   "cell_type": "code",
   "execution_count": 55,
   "metadata": {},
   "outputs": [],
   "source": [
    "nome_banco = consult_params_table('vidas', 'nome_banco')"
   ]
  },
  {
   "cell_type": "code",
   "execution_count": 70,
   "metadata": {},
   "outputs": [],
   "source": [
    "regex = consult_params_table('vidas', 'regex')"
   ]
  },
  {
   "cell_type": "code",
   "execution_count": 56,
   "metadata": {},
   "outputs": [
    {
     "data": {
      "text/plain": [
       "['int', 'int', 'char']"
      ]
     },
     "execution_count": 56,
     "metadata": {},
     "output_type": "execute_result"
    }
   ],
   "source": [
    "tipo"
   ]
  },
  {
   "cell_type": "code",
   "execution_count": 61,
   "metadata": {},
   "outputs": [],
   "source": [
    "dic = dict(zip(nome_banco,tipo))"
   ]
  },
  {
   "cell_type": "code",
   "execution_count": 69,
   "metadata": {},
   "outputs": [
    {
     "name": "stdout",
     "output_type": "stream",
     "text": [
      "int\n",
      "int\n",
      "char\n"
     ]
    }
   ],
   "source": [
    "for x in dic:\n",
    "    print(dic[x])"
   ]
  },
  {
   "cell_type": "code",
   "execution_count": 71,
   "metadata": {},
   "outputs": [
    {
     "data": {
      "text/plain": [
       "['\\\\d', '\\\\d', '\\\\w\\\\s']"
      ]
     },
     "execution_count": 71,
     "metadata": {},
     "output_type": "execute_result"
    }
   ],
   "source": [
    "regex"
   ]
  },
  {
   "cell_type": "code",
   "execution_count": null,
   "metadata": {},
   "outputs": [],
   "source": []
  }
 ],
 "metadata": {
  "kernelspec": {
   "display_name": "Python 3",
   "language": "python",
   "name": "python3"
  },
  "language_info": {
   "codemirror_mode": {
    "name": "ipython",
    "version": 3
   },
   "file_extension": ".py",
   "mimetype": "text/x-python",
   "name": "python",
   "nbconvert_exporter": "python",
   "pygments_lexer": "ipython3",
   "version": "3.7.3"
  }
 },
 "nbformat": 4,
 "nbformat_minor": 4
}
