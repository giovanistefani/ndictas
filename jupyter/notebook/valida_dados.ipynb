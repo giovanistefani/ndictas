{
 "cells": [
  {
   "cell_type": "code",
   "execution_count": 1,
   "metadata": {},
   "outputs": [],
   "source": [
    "%config IPCompleter.greedy=True"
   ]
  },
  {
   "cell_type": "code",
   "execution_count": 23,
   "metadata": {},
   "outputs": [],
   "source": [
    "import os\n",
    "import re\n",
    "import petl as etl\n",
    "import csv\n",
    "import datetime"
   ]
  },
  {
   "cell_type": "code",
   "execution_count": 17,
   "metadata": {},
   "outputs": [],
   "source": [
    "def get_all_files_from_dir(folder_input):\n",
    "    return [os.path.join(folder_input, f).split('/')[-1] for f in os.listdir(folder_input) if os.path.isfile(os.path.join(folder_input, f))]"
   ]
  },
  {
   "cell_type": "code",
   "execution_count": 50,
   "metadata": {},
   "outputs": [],
   "source": [
    "data_dir = '/home/giovani/Documentos/jupyter/dados/'\n",
    "arq='BENEFICIARIOS.csv'"
   ]
  },
  {
   "cell_type": "code",
   "execution_count": 51,
   "metadata": {},
   "outputs": [
    {
     "data": {
      "text/plain": [
       "['06 - receitas_coparticipacoes.csv',\n",
       " '07 - custos_fechados.csv',\n",
       " '05 - receitas_mensalidades.csv',\n",
       " '02 - prestadores.csv',\n",
       " '01 - empresas.csv',\n",
       " '03 - procedimentos.csv',\n",
       " '04 - beneficiarios.csv']"
      ]
     },
     "execution_count": 51,
     "metadata": {},
     "output_type": "execute_result"
    }
   ],
   "source": [
    "get_all_files_from_dir(data_dir)"
   ]
  },
  {
   "cell_type": "code",
   "execution_count": 52,
   "metadata": {},
   "outputs": [],
   "source": [
    "def get_file_name_to_dir(file):\n",
    "    arq=file.split('/')[-1]\n",
    "    pasta=arq.split('.')\n",
    "    return pasta[0]"
   ]
  },
  {
   "cell_type": "code",
   "execution_count": 53,
   "metadata": {},
   "outputs": [
    {
     "data": {
      "text/plain": [
       "'04 - beneficiarios'"
      ]
     },
     "execution_count": 53,
     "metadata": {},
     "output_type": "execute_result"
    }
   ],
   "source": [
    "arquivo=get_file_name_to_dir('04 - beneficiarios.csv')\n",
    "arquivo"
   ]
  },
  {
   "cell_type": "code",
   "execution_count": 54,
   "metadata": {},
   "outputs": [
    {
     "data": {
      "text/plain": [
       "'beneficiarios'"
      ]
     },
     "execution_count": 54,
     "metadata": {},
     "output_type": "execute_result"
    }
   ],
   "source": [
    "result = re.search(r'beneficiarios.csv', arquivo) \n",
    "arq_name = result.group()\n",
    "arq_name"
   ]
  },
  {
   "cell_type": "code",
   "execution_count": 55,
   "metadata": {},
   "outputs": [
    {
     "ename": "FileNotFoundError",
     "evalue": "[Errno 2] No such file or directory: '/home/giovani/Documentos/jupyter/dados/04 - beneficiarios' -> '/home/giovani/Documentos/jupyter/dados/beneficiarios'",
     "output_type": "error",
     "traceback": [
      "\u001b[0;31m---------------------------------------------------------------------------\u001b[0m",
      "\u001b[0;31mFileNotFoundError\u001b[0m                         Traceback (most recent call last)",
      "\u001b[0;32m<ipython-input-55-de665d322905>\u001b[0m in \u001b[0;36m<module>\u001b[0;34m\u001b[0m\n\u001b[0;32m----> 1\u001b[0;31m \u001b[0mos\u001b[0m\u001b[0;34m.\u001b[0m\u001b[0mrename\u001b[0m\u001b[0;34m(\u001b[0m\u001b[0mdata_dir\u001b[0m\u001b[0;34m+\u001b[0m\u001b[0marquivo\u001b[0m\u001b[0;34m,\u001b[0m \u001b[0mdata_dir\u001b[0m\u001b[0;34m+\u001b[0m\u001b[0marq_name\u001b[0m\u001b[0;34m)\u001b[0m\u001b[0;34m\u001b[0m\u001b[0;34m\u001b[0m\u001b[0m\n\u001b[0m",
      "\u001b[0;31mFileNotFoundError\u001b[0m: [Errno 2] No such file or directory: '/home/giovani/Documentos/jupyter/dados/04 - beneficiarios' -> '/home/giovani/Documentos/jupyter/dados/beneficiarios'"
     ]
    }
   ],
   "source": [
    "os.rename(data_dir+arquivo, data_dir+arq_name)"
   ]
  },
  {
   "cell_type": "markdown",
   "metadata": {},
   "source": [
    "## Valida beneficiario"
   ]
  },
  {
   "cell_type": "code",
   "execution_count": 16,
   "metadata": {},
   "outputs": [
    {
     "data": {
      "text/html": [
       "<table class='petl'>\n",
       "<thead>\n",
       "<tr>\n",
       "<th>﻿00000005001570\t</th>\n",
       "<th>00010001001570032\t</th>\n",
       "<th>00010001001570008\t</th>\n",
       "<th>17155730000164\t</th>\n",
       "<th>MARCO AURELIO GUIMARAES MONTEIRO                                      \t</th>\n",
       "<th>48125857672\t</th>\n",
       "<th>14/03/1961\t</th>\n",
       "<th>0001\t</th>\n",
       "<th>PROSAUDE INTEGRADO                                          \t</th>\n",
       "<th>NULL\t</th>\n",
       "<th>NULL\t</th>\n",
       "<th>APARTAMENTO STANDART\t</th>\n",
       "<th>NACIONAL\t</th>\n",
       "<th>CONJUGE / COMPANHEIRO                   \t</th>\n",
       "<th>08/01/2007\t</th>\n",
       "<th>23/02/2011\t</th>\n",
       "<th>FELISBINA GUIMARAES MONTEIRO                                                                                            \t</th>\n",
       "<th>MASCULINO\t</th>\n",
       "<th>COLETIVO EMPRESARIAL          \t</th>\n",
       "<th>RUA MATO GROSSO                         \t</th>\n",
       "<th>SANTO AGOSTINHO                                             \t</th>\n",
       "<th>BELO HORIZONTE                \t</th>\n",
       "<th>MG\t</th>\n",
       "<th>30190088\t</th>\n",
       "<th>GRUPO CEMIG\t</th>\n",
       "<th>706201064694669\t</th>\n",
       "<th>SIM\t</th>\n",
       "<th>CEMIG GT\t</th>\n",
       "<th>FISICA\t</th>\n",
       "<th>2</th>\n",
       "</tr>\n",
       "</thead>\n",
       "<tbody>\n",
       "<tr>\n",
       "<td>00000005012837\t</td>\n",
       "<td>00010001012837000\t</td>\n",
       "<td>00010001012837000\t</td>\n",
       "<td>17155730000164\t</td>\n",
       "<td>MARCO AURELIO GUIMARAES MONTEIRO                                      \t</td>\n",
       "<td>48125857672\t</td>\n",
       "<td>14/03/1961\t</td>\n",
       "<td>0001\t</td>\n",
       "<td>PROSAUDE INTEGRADO                                          \t</td>\n",
       "<td>NULL\t</td>\n",
       "<td>NULL\t</td>\n",
       "<td>APARTAMENTO STANDART\t</td>\n",
       "<td>NACIONAL\t</td>\n",
       "<td>TITULAR                                 \t</td>\n",
       "<td>23/02/2011\t</td>\n",
       "<td>09/07/2015\t</td>\n",
       "<td>FELISBINA GUIMARAES MONTEIRO                                                                                            \t</td>\n",
       "<td>MASCULINO\t</td>\n",
       "<td>COLETIVO EMPRESARIAL          \t</td>\n",
       "<td>RUA MATO GROSSO                         \t</td>\n",
       "<td>SANTO AGOSTINHO                                             \t</td>\n",
       "<td>BELO HORIZONTE                \t</td>\n",
       "<td>MG\t</td>\n",
       "<td>30190088\t</td>\n",
       "<td>GRUPO CEMIG\t</td>\n",
       "<td>706201064694669\t</td>\n",
       "<td>SIM\t</td>\n",
       "<td>CEMIG HOLGING\t</td>\n",
       "<td>FISICA\t</td>\n",
       "<td>2</td>\n",
       "</tr>\n",
       "<tr>\n",
       "<td>00000006000003\t</td>\n",
       "<td>00010001000003010\t</td>\n",
       "<td>00010001000003002\t</td>\n",
       "<td>17155730000164\t</td>\n",
       "<td>MARIA EDVIGES CABRAL DE AZEVEDO                                       \t</td>\n",
       "<td>37025546615\t</td>\n",
       "<td>14/08/1956\t</td>\n",
       "<td>0001\t</td>\n",
       "<td>PROSAUDE INTEGRADO                                          \t</td>\n",
       "<td>NULL\t</td>\n",
       "<td>NULL\t</td>\n",
       "<td>APARTAMENTO STANDART\t</td>\n",
       "<td>NACIONAL\t</td>\n",
       "<td>CONJUGE / COMPANHEIRO                   \t</td>\n",
       "<td>10/07/2015\t</td>\n",
       "<td>\t</td>\n",
       "<td>ANNA ANTONIA CABRAL DE AZEVEDO                                                                                          \t</td>\n",
       "<td>FEMININO\t</td>\n",
       "<td>COLETIVO EMPRESARIAL          \t</td>\n",
       "<td>RUA MATO GROSSO                         \t</td>\n",
       "<td>SANTO AGOSTINHO                                             \t</td>\n",
       "<td>BELO HORIZONTE                \t</td>\n",
       "<td>MG\t</td>\n",
       "<td>30190088\t</td>\n",
       "<td>GRUPO CEMIG\t</td>\n",
       "<td>700503121519158\t</td>\n",
       "<td>SIM\t</td>\n",
       "<td>CEMIG D\t</td>\n",
       "<td>FISICA\t</td>\n",
       "<td>2</td>\n",
       "</tr>\n",
       "<tr>\n",
       "<td>00000006001570\t</td>\n",
       "<td>00010001001570008\t</td>\n",
       "<td>00010001001570008\t</td>\n",
       "<td>17155730000164\t</td>\n",
       "<td>MARIA EDVIGES CABRAL DE AZEVEDO                                       \t</td>\n",
       "<td>37025546615\t</td>\n",
       "<td>14/08/1956\t</td>\n",
       "<td>0001\t</td>\n",
       "<td>PROSAUDE INTEGRADO                                          \t</td>\n",
       "<td>NULL\t</td>\n",
       "<td>NULL\t</td>\n",
       "<td>APARTAMENTO STANDART\t</td>\n",
       "<td>NACIONAL\t</td>\n",
       "<td>TITULAR                                 \t</td>\n",
       "<td>02/01/2005\t</td>\n",
       "<td>23/02/2011\t</td>\n",
       "<td>ANNA ANTONIA CABRAL DE AZEVEDO                                                                                          \t</td>\n",
       "<td>FEMININO\t</td>\n",
       "<td>COLETIVO EMPRESARIAL          \t</td>\n",
       "<td>RUA MATO GROSSO                         \t</td>\n",
       "<td>SANTO AGOSTINHO                                             \t</td>\n",
       "<td>BELO HORIZONTE                \t</td>\n",
       "<td>MG\t</td>\n",
       "<td>30190081\t</td>\n",
       "<td>GRUPO CEMIG\t</td>\n",
       "<td>700503121519158\t</td>\n",
       "<td>SIM\t</td>\n",
       "<td>CEMIG GT\t</td>\n",
       "<td>FISICA\t</td>\n",
       "<td>2</td>\n",
       "</tr>\n",
       "<tr>\n",
       "<td>00000007012837\t</td>\n",
       "<td>00010001012837019\t</td>\n",
       "<td>00010001012837000\t</td>\n",
       "<td>17155730000164\t</td>\n",
       "<td>MARINA AZEVEDO MONTEIRO                                               \t</td>\n",
       "<td>12688868667\t</td>\n",
       "<td>09/11/1993\t</td>\n",
       "<td>0001\t</td>\n",
       "<td>PROSAUDE INTEGRADO                                          \t</td>\n",
       "<td>NULL\t</td>\n",
       "<td>NULL\t</td>\n",
       "<td>APARTAMENTO STANDART\t</td>\n",
       "<td>NACIONAL\t</td>\n",
       "<td>FILHO / FILHA                           \t</td>\n",
       "<td>23/02/2011\t</td>\n",
       "<td>09/07/2015\t</td>\n",
       "<td>MARIA EDVIGES CABRAL DE AZEVEDO                                                                                         \t</td>\n",
       "<td>FEMININO\t</td>\n",
       "<td>COLETIVO EMPRESARIAL          \t</td>\n",
       "<td>RUA MATO GROSSO                         \t</td>\n",
       "<td>SANTO AGOSTINHO                                             \t</td>\n",
       "<td>BELO HORIZONTE                \t</td>\n",
       "<td>MG\t</td>\n",
       "<td>30190088\t</td>\n",
       "<td>GRUPO CEMIG\t</td>\n",
       "<td>703401695595500\t</td>\n",
       "<td>SIM\t</td>\n",
       "<td>CEMIG HOLGING\t</td>\n",
       "<td>FISICA\t</td>\n",
       "<td>2</td>\n",
       "</tr>\n",
       "<tr>\n",
       "<td>00000008012837\t</td>\n",
       "<td>00010001012837027\t</td>\n",
       "<td>00010001012837000\t</td>\n",
       "<td>17155730000164\t</td>\n",
       "<td>BEATRIZ AZEVEDO MONTEIRO                                              \t</td>\n",
       "<td>11546916679\t</td>\n",
       "<td>26/09/1995\t</td>\n",
       "<td>0001\t</td>\n",
       "<td>PROSAUDE INTEGRADO                                          \t</td>\n",
       "<td>NULL\t</td>\n",
       "<td>NULL\t</td>\n",
       "<td>APARTAMENTO STANDART\t</td>\n",
       "<td>NACIONAL\t</td>\n",
       "<td>FILHO / FILHA                           \t</td>\n",
       "<td>23/02/2011\t</td>\n",
       "<td>09/07/2015\t</td>\n",
       "<td>MARIA EDVIGES CABRAL DE AZEVEDO                                                                                         \t</td>\n",
       "<td>FEMININO\t</td>\n",
       "<td>COLETIVO EMPRESARIAL          \t</td>\n",
       "<td>RUA MATO GROSSO                         \t</td>\n",
       "<td>SANTO AGOSTINHO                                             \t</td>\n",
       "<td>BELO HORIZONTE                \t</td>\n",
       "<td>MG\t</td>\n",
       "<td>30190088\t</td>\n",
       "<td>GRUPO CEMIG\t</td>\n",
       "<td>705009857573954\t</td>\n",
       "<td>SIM\t</td>\n",
       "<td>CEMIG HOLGING\t</td>\n",
       "<td>FISICA\t</td>\n",
       "<td>2</td>\n",
       "</tr>\n",
       "</tbody>\n",
       "</table>\n",
       "<p><strong>...</strong></p>"
      ],
      "text/plain": [
       "+--------------------+-----------------------+-----------------------+--------------------+----------------------------------------------------------------------------+-----------------+----------------+----------+------------------------------------------------------------------+----------+----------+--------------------------+--------------+----------------------------------------------+----------------+----------------+------------------------------------------------------------------------------------------------------------------------------+---------------+------------------------------------+----------------------------------------------+------------------------------------------------------------------+------------------------------------+--------+--------------+-----------------+---------------------+---------+-------------------+------------+-----+\n",
       "| ﻿00000005001570\t   | 00010001001570032\t    | 00010001001570008\t    | 17155730000164\t    | MARCO AURELIO GUIMARAES MONTEIRO                                      \t    | 48125857672\t    | 14/03/1961\t    | 0001\t    | PROSAUDE INTEGRADO                                          \t    | NULL\t    | NULL\t    | APARTAMENTO STANDART\t    | NACIONAL\t    | CONJUGE / COMPANHEIRO                   \t    | 08/01/2007\t    | 23/02/2011\t    | FELISBINA GUIMARAES MONTEIRO                                                                                            \t    | MASCULINO\t    | COLETIVO EMPRESARIAL          \t    | RUA MATO GROSSO                         \t    | SANTO AGOSTINHO                                             \t    | BELO HORIZONTE                \t    | MG\t    | 30190088\t    | GRUPO CEMIG\t    | 706201064694669\t    | SIM\t    | CEMIG GT\t         | FISICA\t    | 2   |\n",
       "+====================+=======================+=======================+====================+============================================================================+=================+================+==========+==================================================================+==========+==========+==========================+==============+==============================================+================+================+==============================================================================================================================+===============+====================================+==============================================+==================================================================+====================================+========+==============+=================+=====================+=========+===================+============+=====+\n",
       "| '00000005012837\\t' | '00010001012837000\\t' | '00010001012837000\\t' | '17155730000164\\t' | 'MARCO AURELIO GUIMARAES MONTEIRO                                      \\t' | '48125857672\\t' | '14/03/1961\\t' | '0001\\t' | 'PROSAUDE INTEGRADO                                          \\t' | 'NULL\\t' | 'NULL\\t' | 'APARTAMENTO STANDART\\t' | 'NACIONAL\\t' | 'TITULAR                                 \\t' | '23/02/2011\\t' | '09/07/2015\\t' | 'FELISBINA GUIMARAES MONTEIRO                                                                                            \\t' | 'MASCULINO\\t' | 'COLETIVO EMPRESARIAL          \\t' | 'RUA MATO GROSSO                         \\t' | 'SANTO AGOSTINHO                                             \\t' | 'BELO HORIZONTE                \\t' | 'MG\\t' | '30190088\\t' | 'GRUPO CEMIG\\t' | '706201064694669\\t' | 'SIM\\t' | 'CEMIG HOLGING\\t' | 'FISICA\\t' | '2' |\n",
       "+--------------------+-----------------------+-----------------------+--------------------+----------------------------------------------------------------------------+-----------------+----------------+----------+------------------------------------------------------------------+----------+----------+--------------------------+--------------+----------------------------------------------+----------------+----------------+------------------------------------------------------------------------------------------------------------------------------+---------------+------------------------------------+----------------------------------------------+------------------------------------------------------------------+------------------------------------+--------+--------------+-----------------+---------------------+---------+-------------------+------------+-----+\n",
       "| '00000006000003\\t' | '00010001000003010\\t' | '00010001000003002\\t' | '17155730000164\\t' | 'MARIA EDVIGES CABRAL DE AZEVEDO                                       \\t' | '37025546615\\t' | '14/08/1956\\t' | '0001\\t' | 'PROSAUDE INTEGRADO                                          \\t' | 'NULL\\t' | 'NULL\\t' | 'APARTAMENTO STANDART\\t' | 'NACIONAL\\t' | 'CONJUGE / COMPANHEIRO                   \\t' | '10/07/2015\\t' | '\\t'           | 'ANNA ANTONIA CABRAL DE AZEVEDO                                                                                          \\t' | 'FEMININO\\t'  | 'COLETIVO EMPRESARIAL          \\t' | 'RUA MATO GROSSO                         \\t' | 'SANTO AGOSTINHO                                             \\t' | 'BELO HORIZONTE                \\t' | 'MG\\t' | '30190088\\t' | 'GRUPO CEMIG\\t' | '700503121519158\\t' | 'SIM\\t' | 'CEMIG D\\t'       | 'FISICA\\t' | '2' |\n",
       "+--------------------+-----------------------+-----------------------+--------------------+----------------------------------------------------------------------------+-----------------+----------------+----------+------------------------------------------------------------------+----------+----------+--------------------------+--------------+----------------------------------------------+----------------+----------------+------------------------------------------------------------------------------------------------------------------------------+---------------+------------------------------------+----------------------------------------------+------------------------------------------------------------------+------------------------------------+--------+--------------+-----------------+---------------------+---------+-------------------+------------+-----+\n",
       "| '00000006001570\\t' | '00010001001570008\\t' | '00010001001570008\\t' | '17155730000164\\t' | 'MARIA EDVIGES CABRAL DE AZEVEDO                                       \\t' | '37025546615\\t' | '14/08/1956\\t' | '0001\\t' | 'PROSAUDE INTEGRADO                                          \\t' | 'NULL\\t' | 'NULL\\t' | 'APARTAMENTO STANDART\\t' | 'NACIONAL\\t' | 'TITULAR                                 \\t' | '02/01/2005\\t' | '23/02/2011\\t' | 'ANNA ANTONIA CABRAL DE AZEVEDO                                                                                          \\t' | 'FEMININO\\t'  | 'COLETIVO EMPRESARIAL          \\t' | 'RUA MATO GROSSO                         \\t' | 'SANTO AGOSTINHO                                             \\t' | 'BELO HORIZONTE                \\t' | 'MG\\t' | '30190081\\t' | 'GRUPO CEMIG\\t' | '700503121519158\\t' | 'SIM\\t' | 'CEMIG GT\\t'      | 'FISICA\\t' | '2' |\n",
       "+--------------------+-----------------------+-----------------------+--------------------+----------------------------------------------------------------------------+-----------------+----------------+----------+------------------------------------------------------------------+----------+----------+--------------------------+--------------+----------------------------------------------+----------------+----------------+------------------------------------------------------------------------------------------------------------------------------+---------------+------------------------------------+----------------------------------------------+------------------------------------------------------------------+------------------------------------+--------+--------------+-----------------+---------------------+---------+-------------------+------------+-----+\n",
       "| '00000007012837\\t' | '00010001012837019\\t' | '00010001012837000\\t' | '17155730000164\\t' | 'MARINA AZEVEDO MONTEIRO                                               \\t' | '12688868667\\t' | '09/11/1993\\t' | '0001\\t' | 'PROSAUDE INTEGRADO                                          \\t' | 'NULL\\t' | 'NULL\\t' | 'APARTAMENTO STANDART\\t' | 'NACIONAL\\t' | 'FILHO / FILHA                           \\t' | '23/02/2011\\t' | '09/07/2015\\t' | 'MARIA EDVIGES CABRAL DE AZEVEDO                                                                                         \\t' | 'FEMININO\\t'  | 'COLETIVO EMPRESARIAL          \\t' | 'RUA MATO GROSSO                         \\t' | 'SANTO AGOSTINHO                                             \\t' | 'BELO HORIZONTE                \\t' | 'MG\\t' | '30190088\\t' | 'GRUPO CEMIG\\t' | '703401695595500\\t' | 'SIM\\t' | 'CEMIG HOLGING\\t' | 'FISICA\\t' | '2' |\n",
       "+--------------------+-----------------------+-----------------------+--------------------+----------------------------------------------------------------------------+-----------------+----------------+----------+------------------------------------------------------------------+----------+----------+--------------------------+--------------+----------------------------------------------+----------------+----------------+------------------------------------------------------------------------------------------------------------------------------+---------------+------------------------------------+----------------------------------------------+------------------------------------------------------------------+------------------------------------+--------+--------------+-----------------+---------------------+---------+-------------------+------------+-----+\n",
       "| '00000008012837\\t' | '00010001012837027\\t' | '00010001012837000\\t' | '17155730000164\\t' | 'BEATRIZ AZEVEDO MONTEIRO                                              \\t' | '11546916679\\t' | '26/09/1995\\t' | '0001\\t' | 'PROSAUDE INTEGRADO                                          \\t' | 'NULL\\t' | 'NULL\\t' | 'APARTAMENTO STANDART\\t' | 'NACIONAL\\t' | 'FILHO / FILHA                           \\t' | '23/02/2011\\t' | '09/07/2015\\t' | 'MARIA EDVIGES CABRAL DE AZEVEDO                                                                                         \\t' | 'FEMININO\\t'  | 'COLETIVO EMPRESARIAL          \\t' | 'RUA MATO GROSSO                         \\t' | 'SANTO AGOSTINHO                                             \\t' | 'BELO HORIZONTE                \\t' | 'MG\\t' | '30190088\\t' | 'GRUPO CEMIG\\t' | '705009857573954\\t' | 'SIM\\t' | 'CEMIG HOLGING\\t' | 'FISICA\\t' | '2' |\n",
       "+--------------------+-----------------------+-----------------------+--------------------+----------------------------------------------------------------------------+-----------------+----------------+----------+------------------------------------------------------------------+----------+----------+--------------------------+--------------+----------------------------------------------+----------------+----------------+------------------------------------------------------------------------------------------------------------------------------+---------------+------------------------------------+----------------------------------------------+------------------------------------------------------------------+------------------------------------+--------+--------------+-----------------+---------------------+---------+-------------------+------------+-----+\n",
       "..."
      ]
     },
     "execution_count": 16,
     "metadata": {},
     "output_type": "execute_result"
    }
   ],
   "source": [
    "#table = etl.fromcsv('/home/giovani/Documentos/jupyter/dados/BENEFICIARIOS.csv', delimiter = '|')\n",
    "table = etl.fromcsv(f'{data_dir}/{arq}', delimiter = '|')\n",
    "table"
   ]
  },
  {
   "cell_type": "code",
   "execution_count": null,
   "metadata": {},
   "outputs": [],
   "source": [
    "table2 = etl.pushheader(table1, ['pk_beneficiario', 'nr_beneficiario','fk_empresa','dt_geracao_titulo','dt_pgto','nr_centro_custo','descricao_centro_custo','tipo_cobranca','vl_cobranca','vl_pago','tipo_cobranca_sub'])\n",
    "table2"
   ]
  },
  {
   "cell_type": "markdown",
   "metadata": {},
   "source": [
    "## Renomeia Arquivos"
   ]
  },
  {
   "cell_type": "markdown",
   "metadata": {},
   "source": [
    "### Função busca arquivo"
   ]
  },
  {
   "cell_type": "code",
   "execution_count": 62,
   "metadata": {},
   "outputs": [],
   "source": [
    "def get_all_files_from_dir(folder_input):\n",
    "    return [os.path.join(folder_input, f).split('/')[-1] for f in os.listdir(folder_input) if os.path.isfile(os.path.join(folder_input, f))]"
   ]
  },
  {
   "cell_type": "markdown",
   "metadata": {},
   "source": [
    "#### Variáveis"
   ]
  },
  {
   "cell_type": "code",
   "execution_count": 77,
   "metadata": {},
   "outputs": [],
   "source": [
    "DIR = '/home/giovani/Documentos/jupyter/dados/'"
   ]
  },
  {
   "cell_type": "markdown",
   "metadata": {},
   "source": [
    "#### Busca Arquivo"
   ]
  },
  {
   "cell_type": "code",
   "execution_count": 94,
   "metadata": {},
   "outputs": [
    {
     "data": {
      "text/plain": [
       "['receita.csv',\n",
       " 'empresa.csv',\n",
       " 'beneficiario.csv',\n",
       " 'procedimento.csv',\n",
       " 'prestador.csv',\n",
       " 'custo.csv']"
      ]
     },
     "execution_count": 94,
     "metadata": {},
     "output_type": "execute_result"
    }
   ],
   "source": [
    "arq_name=get_all_files_from_dir(DIR)\n",
    "arq_name"
   ]
  }
 ],
 "metadata": {
  "kernelspec": {
   "display_name": "Python 3",
   "language": "python",
   "name": "python3"
  },
  "language_info": {
   "codemirror_mode": {
    "name": "ipython",
    "version": 3
   },
   "file_extension": ".py",
   "mimetype": "text/x-python",
   "name": "python",
   "nbconvert_exporter": "python",
   "pygments_lexer": "ipython3",
   "version": "3.7.4"
  }
 },
 "nbformat": 4,
 "nbformat_minor": 4
}
