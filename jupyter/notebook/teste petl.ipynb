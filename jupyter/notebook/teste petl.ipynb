{
 "cells": [
  {
   "cell_type": "code",
   "execution_count": 8,
   "metadata": {},
   "outputs": [],
   "source": [
    "import petl as etl\n",
    "from collections import OrderedDict"
   ]
  },
  {
   "cell_type": "code",
   "execution_count": 9,
   "metadata": {},
   "outputs": [],
   "source": [
    "table1 = [['id', 'sex', 'age', 'height', 'weight'],\n",
    "           [1, 'male', 16, 1.45, 62.0],\n",
    "           [2, 'female', 19, 1.34, 55.4],\n",
    "           [3, 'female', 17, 1.78, 74.4],\n",
    "           [4, 'male', 21, 1.33, 45.2],\n",
    "           [5, '-', 25, 1.65, 51.9]]"
   ]
  },
  {
   "cell_type": "code",
   "execution_count": 19,
   "metadata": {},
   "outputs": [],
   "source": [
    "mappings = OrderedDict()\n",
    "\n",
    "mappings['codigo'] = 'id'\n",
    "mappings['gender'] = 'sex', {'male': 'M', 'female':'F'}\n",
    "mappings['age_months'] = 'age'#, lambda v: v * 12\n",
    "mappings['imc'] = lambda rec: rec['weight'] / rec['height']**2"
   ]
  },
  {
   "cell_type": "code",
   "execution_count": 20,
   "metadata": {},
   "outputs": [
    {
     "data": {
      "text/html": [
       "<table class='petl'>\n",
       "<thead>\n",
       "<tr>\n",
       "<th>codigo</th>\n",
       "<th>gender</th>\n",
       "<th>age_months</th>\n",
       "<th>imc</th>\n",
       "</tr>\n",
       "</thead>\n",
       "<tbody>\n",
       "<tr>\n",
       "<td style='text-align: right'>1</td>\n",
       "<td>M</td>\n",
       "<td style='text-align: right'>16</td>\n",
       "<td style='text-align: right'>29.48870392390012</td>\n",
       "</tr>\n",
       "<tr>\n",
       "<td style='text-align: right'>2</td>\n",
       "<td>F</td>\n",
       "<td style='text-align: right'>19</td>\n",
       "<td style='text-align: right'>30.8531967030519</td>\n",
       "</tr>\n",
       "<tr>\n",
       "<td style='text-align: right'>3</td>\n",
       "<td>F</td>\n",
       "<td style='text-align: right'>17</td>\n",
       "<td style='text-align: right'>23.481883600555488</td>\n",
       "</tr>\n",
       "<tr>\n",
       "<td style='text-align: right'>4</td>\n",
       "<td>M</td>\n",
       "<td style='text-align: right'>21</td>\n",
       "<td style='text-align: right'>25.55260331279326</td>\n",
       "</tr>\n",
       "<tr>\n",
       "<td style='text-align: right'>5</td>\n",
       "<td>-</td>\n",
       "<td style='text-align: right'>25</td>\n",
       "<td style='text-align: right'>19.0633608815427</td>\n",
       "</tr>\n",
       "</tbody>\n",
       "</table>\n"
      ],
      "text/plain": [
       "+--------+--------+------------+--------------------+\n",
       "| codigo | gender | age_months | imc                |\n",
       "+========+========+============+====================+\n",
       "|      1 | 'M'    |         16 |  29.48870392390012 |\n",
       "+--------+--------+------------+--------------------+\n",
       "|      2 | 'F'    |         19 |   30.8531967030519 |\n",
       "+--------+--------+------------+--------------------+\n",
       "|      3 | 'F'    |         17 | 23.481883600555488 |\n",
       "+--------+--------+------------+--------------------+\n",
       "|      4 | 'M'    |         21 |  25.55260331279326 |\n",
       "+--------+--------+------------+--------------------+\n",
       "|      5 | '-'    |         25 |   19.0633608815427 |\n",
       "+--------+--------+------------+--------------------+"
      ]
     },
     "execution_count": 20,
     "metadata": {},
     "output_type": "execute_result"
    }
   ],
   "source": [
    "table2 = etl.fieldmap(table1, mappings)\n",
    "table2"
   ]
  },
  {
   "cell_type": "code",
   "execution_count": null,
   "metadata": {},
   "outputs": [],
   "source": []
  },
  {
   "cell_type": "code",
   "execution_count": null,
   "metadata": {},
   "outputs": [],
   "source": []
  },
  {
   "cell_type": "code",
   "execution_count": null,
   "metadata": {},
   "outputs": [],
   "source": []
  }
 ],
 "metadata": {
  "kernelspec": {
   "display_name": "Python 3",
   "language": "python",
   "name": "python3"
  },
  "language_info": {
   "codemirror_mode": {
    "name": "ipython",
    "version": 3
   },
   "file_extension": ".py",
   "mimetype": "text/x-python",
   "name": "python",
   "nbconvert_exporter": "python",
   "pygments_lexer": "ipython3",
   "version": "3.7.4"
  }
 },
 "nbformat": 4,
 "nbformat_minor": 4
}
