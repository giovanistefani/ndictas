{
 "cells": [
  {
   "cell_type": "code",
   "execution_count": 1,
   "metadata": {},
   "outputs": [],
   "source": [
    "import os\n",
    "from azure.storage.blob import BlobServiceClient, ContainerClient, BlobClient, BlobBlock\n",
    "import pandas as pd\n",
    "import io\n",
    "import csv\n",
    "import re\n",
    "from datetime import datetime\n",
    "import json\n",
    "import petl as etl"
   ]
  },
  {
   "cell_type": "code",
   "execution_count": 2,
   "metadata": {},
   "outputs": [],
   "source": [
    "account_name='datalake2dictas'\n",
    "account_key='wlxJHcWvtVhPpL/zs6l+F1bJGKZnJ4HppZcVyh+ns32oH46E3dY/HBLau3V6um9hv+KZf/3mXEAL5nHD41X3jg=='\n",
    "container_from = 'transient'\n",
    "container_to = 'raw'\n",
    "upload_file = '/opt/jupyter_etl_dictas/datalake/transient/beneficiario/beneficiarios_atualizado.csv'\n",
    "_LOCALDIR = '/opt/jupyter_etl_dictas/datalake/transient'"
   ]
  },
  {
   "cell_type": "code",
   "execution_count": 3,
   "metadata": {},
   "outputs": [],
   "source": [
    "cc_from = ContainerClient(account_url=f\"https://{account_name}.blob.core.windows.net/\",container_name=container_from, credential=account_key)\n",
    "cc_to = ContainerClient(account_url=f\"https://{account_name}.blob.core.windows.net/\",container_name=container_to, credential=account_key)\n",
    "cc_trusted = ContainerClient(account_url=f\"https://{account_name}.blob.core.windows.net/\",container_name='trusted', credential=account_key)\n",
    "cc_refined = ContainerClient(account_url=f\"https://{account_name}.blob.core.windows.net/\",container_name='refined', credential=account_key)"
   ]
  },
  {
   "cell_type": "code",
   "execution_count": 107,
   "metadata": {},
   "outputs": [],
   "source": [
    "for x in cc_from.list_blobs ():\n",
    "    z = cc_from.get_blob_client(x)\n",
    "    z.delete_blob()\n",
    "\n",
    "for x in cc_to.list_blobs ():\n",
    "    z = cc_to.get_blob_client(x)\n",
    "    z.delete_blob()\n",
    "\n",
    "for x in cc_trusted.list_blobs ():\n",
    "    z = cc_trusted.get_blob_client(x)\n",
    "    z.delete_blob()\n",
    "    \n",
    "for x in cc_refined.list_blobs ():\n",
    "    z = cc_refined.get_blob_client(x)\n",
    "    z.delete_blob()    "
   ]
  },
  {
   "cell_type": "code",
   "execution_count": 106,
   "metadata": {
    "scrolled": true
   },
   "outputs": [
    {
     "name": "stdout",
     "output_type": "stream",
     "text": [
      "\n",
      "List blobs in the container\n",
      "BENEFICIARIOS.csv\n",
      "\n",
      "CONSULTAS.csv\n",
      "\n",
      "CUSTOS.csv\n",
      "\n",
      "DIARIAS.csv\n",
      "\n",
      "EMPRESAS.csv\n",
      "\n",
      "PRESTADORES.csv\n",
      "\n",
      "RECEITAS.csv\n",
      "\n",
      "SERVICOS.csv\n",
      "\n",
      "VIDAS.csv\n",
      "\n"
     ]
    }
   ],
   "source": [
    "# List the blobs in the container.\n",
    "print(\"\\nList blobs in the container\")\n",
    "blob_list = cc_to.list_blobs()\n",
    "for blob in blob_list:\n",
    "    print(blob.name + '\\n')"
   ]
  },
  {
   "cell_type": "code",
   "execution_count": 12,
   "metadata": {},
   "outputs": [],
   "source": [
    "notebook_dir = 'datalake/erro'"
   ]
  },
  {
   "cell_type": "code",
   "execution_count": 39,
   "metadata": {},
   "outputs": [],
   "source": [
    "blob_dir = 'prestador'\n",
    "blob_file = 'PRESTADORES_error.pkl'\n",
    "csv_file = 'PRESTADORES_error.csv'\n",
    "\n",
    "with open(f'{notebook_dir}/{blob_file}','wb') as data_from:\n",
    "    data_from.write(cc_trusted.get_blob_client(f'{blob_dir}/{blob_file}').download_blob().readall())\n",
    "    \n",
    "#df = pd.read_pickle(f'{notebook_dir}/{blob_file}')   "
   ]
  },
  {
   "cell_type": "code",
   "execution_count": 40,
   "metadata": {},
   "outputs": [],
   "source": [
    "df = pd.read_pickle(f'{notebook_dir}/{blob_file}')  \n",
    "df.to_csv(f'{notebook_dir}/{csv_file}', sep='|')"
   ]
  },
  {
   "cell_type": "code",
   "execution_count": 34,
   "metadata": {},
   "outputs": [],
   "source": [
    "for x in cc_refined.list_blobs ():\n",
    "    z = cc_refined.get_blob_client(x)\n",
    "    z.delete_blob()"
   ]
  }
 ],
 "metadata": {
  "kernelspec": {
   "display_name": "Python 3",
   "language": "python",
   "name": "python3"
  },
  "language_info": {
   "codemirror_mode": {
    "name": "ipython",
    "version": 3
   },
   "file_extension": ".py",
   "mimetype": "text/x-python",
   "name": "python",
   "nbconvert_exporter": "python",
   "pygments_lexer": "ipython3",
   "version": "3.7.6"
  }
 },
 "nbformat": 4,
 "nbformat_minor": 4
}
