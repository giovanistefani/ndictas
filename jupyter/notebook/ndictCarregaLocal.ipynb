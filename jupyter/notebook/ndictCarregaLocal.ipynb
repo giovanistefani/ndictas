{
 "cells": [
  {
   "cell_type": "code",
   "execution_count": 1,
   "metadata": {},
   "outputs": [],
   "source": [
    "%config IPCompleter.greedy=True\n",
    "import os.path\n",
    "import csv\n",
    "import petl as etl\n",
    "from collections import OrderedDict\n",
    "from azure.storage.blob import BlobServiceClient, ContainerClient, BlobClient, BlobBlock"
   ]
  },
  {
   "cell_type": "code",
   "execution_count": 2,
   "metadata": {},
   "outputs": [],
   "source": [
    "account_name='datalake2dictas'\n",
    "account_key='wlxJHcWvtVhPpL/zs6l+F1bJGKZnJ4HppZcVyh+ns32oH46E3dY/HBLau3V6um9hv+KZf/3mXEAL5nHD41X3jg=='\n",
    "container_from = 'transient'\n",
    "container_to = 'raw'\n",
    "upload_file = '/opt/jupyter_etl_dictas/datalake/transient/beneficiario/beneficiarios_atualizado.csv'\n",
    "_LOCALDIR = '/opt/jupyter_etl_dictas/datalake/transient'"
   ]
  },
  {
   "cell_type": "code",
   "execution_count": 3,
   "metadata": {},
   "outputs": [],
   "source": [
    "cc_transient = ContainerClient(account_url=f\"https://{account_name}.blob.core.windows.net/\",container_name=container_from, credential=account_key)\n",
    "cc_raw = ContainerClient(account_url=f\"https://{account_name}.blob.core.windows.net/\",container_name=container_to, credential=account_key)\n"
   ]
  },
  {
   "cell_type": "code",
   "execution_count": 4,
   "metadata": {},
   "outputs": [],
   "source": [
    "_TEMP_FILE='datalake/temp'\n",
    "_METADADOS='metadado/list.csv'\n",
    "_SOURCE='17'\n",
    "_PROC_FILES='datalake/proc'"
   ]
  },
  {
   "cell_type": "markdown",
   "metadata": {},
   "source": [
    "#### Lista Blobs"
   ]
  },
  {
   "cell_type": "code",
   "execution_count": 44,
   "metadata": {},
   "outputs": [
    {
     "name": "stdout",
     "output_type": "stream",
     "text": [
      "\n",
      "List blobs in the container\n",
      "BENEFICIARIO.csv\n",
      "\n",
      "CONSULTAS.csv\n",
      "\n",
      "CUSTOS.csv\n",
      "\n",
      "DIARIAS.csv\n",
      "\n",
      "EMPRESA.csv\n",
      "\n",
      "PRESTADORES.csv\n",
      "\n",
      "RECEITAS.csv\n",
      "\n",
      "SERVICOS.csv\n",
      "\n"
     ]
    }
   ],
   "source": [
    "# List the blobs in the container.\n",
    "print(\"\\nList blobs in the container\")\n",
    "blob_list = cc_transient.list_blobs()\n",
    "for blob in blob_list:\n",
    "    print(blob.name + '\\n')"
   ]
  },
  {
   "cell_type": "markdown",
   "metadata": {},
   "source": [
    "#### Busca lista de arquivos"
   ]
  },
  {
   "cell_type": "code",
   "execution_count": 45,
   "metadata": {},
   "outputs": [
    {
     "name": "stdout",
     "output_type": "stream",
     "text": [
      "BENEFICIARIO.csv\n",
      "PRESTADORES.csv\n",
      "EMPRESA.csv\n",
      "SERVICOS.csv\n",
      "VIDAS.csv\n",
      "CUSTOS.csv\n",
      "CONSULTAS.csv\n",
      "DIARIAS.csv\n",
      "RECEITAS.csv\n"
     ]
    }
   ],
   "source": [
    "with open(_METADADOS, newline='') as lista:\n",
    "    reader = csv.DictReader(lista)\n",
    "    for nm_file in reader:\n",
    "        print(nm_file['ARQUIVOS'])"
   ]
  },
  {
   "cell_type": "markdown",
   "metadata": {},
   "source": [
    "#### Teste de carga blog"
   ]
  },
  {
   "cell_type": "code",
   "execution_count": 46,
   "metadata": {},
   "outputs": [
    {
     "name": "stdout",
     "output_type": "stream",
     "text": [
      "Arquivo BENEFICIARIO.csv não encontrado\n",
      "Arquivo PRESTADORES.csv não encontrado\n",
      "Arquivo EMPRESA.csv não encontrado\n",
      "Arquivo SERVICOS.csv não encontrado\n",
      "Arquivo VIDAS.csv carregado\n",
      "Arquivo CUSTOS.csv não encontrado\n",
      "Arquivo CONSULTAS.csv não encontrado\n",
      "Arquivo DIARIAS.csv não encontrado\n",
      "Arquivo RECEITAS.csv não encontrado\n",
      "Tudo carregado\n"
     ]
    }
   ],
   "source": [
    "try:\n",
    "    with open(_METADADOS, newline='') as lista:\n",
    "        reader = csv.DictReader(lista)\n",
    "        for nm_file in reader:\n",
    "            file = nm_file['ARQUIVOS']\n",
    "            blob = cc_transient.get_blob_client(file)\n",
    "            upload_file = f'{_TEMP_FILE}/{_SOURCE}/{file}'\n",
    "            t_arq = os.path.isfile(upload_file)\n",
    "            if t_arq == True:\n",
    "                 with open (upload_file, \"rb\") as data :\n",
    "                    blob.upload_blob(data, overwrite = True)\n",
    "                    print(\"Arquivo \"+ file +\" carregado\")\n",
    "            else:\n",
    "                print(\"Arquivo \"+ file +\" não encontrado\")\n",
    "        \n",
    "finally:\n",
    "    print(\"Tudo carregado\")"
   ]
  },
  {
   "cell_type": "markdown",
   "metadata": {},
   "source": [
    "#### Verifica Arquivo no Container"
   ]
  },
  {
   "cell_type": "code",
   "execution_count": 47,
   "metadata": {},
   "outputs": [
    {
     "name": "stdout",
     "output_type": "stream",
     "text": [
      "BENEFICIARIO.csv\n",
      "\n",
      "CONSULTAS.csv\n",
      "\n",
      "CUSTOS.csv\n",
      "\n",
      "DIARIAS.csv\n",
      "\n",
      "EMPRESA.csv\n",
      "\n",
      "PRESTADORES.csv\n",
      "\n",
      "RECEITAS.csv\n",
      "\n",
      "SERVICOS.csv\n",
      "\n",
      "VIDAS.csv\n",
      "\n"
     ]
    }
   ],
   "source": [
    "blob_list = cc_transient.list_blobs()\n",
    "for blob in blob_list:\n",
    "    print(blob.name + '\\n')\n",
    "    "
   ]
  },
  {
   "cell_type": "markdown",
   "metadata": {},
   "source": [
    "### Classe Operator"
   ]
  },
  {
   "cell_type": "code",
   "execution_count": null,
   "metadata": {},
   "outputs": [],
   "source": [
    "import os.path\n",
    "import csv\n",
    "import petl as etl\n",
    "from collections import OrderedDict\n",
    "from azure.storage.blob import BlobServiceClient, ContainerClient, BlobClient, BlobBlock\n",
    "\n",
    "_TEMP_FILE='datalake/temp'\n",
    "_METADADOS='metadado/list.csv'\n",
    "_SOURCE='17'\n",
    "_PROC_FILES='datalake/proc'\n",
    "\n",
    "try:\n",
    "    with open(_METADADOS, newline='') as lista:\n",
    "        reader = csv.DictReader(lista)\n",
    "        for nm_file in reader:\n",
    "            file = nm_file['ARQUIVOS']\n",
    "            blob = cc_transient.get_blob_client(file)\n",
    "            upload_file = f'{_TEMP_FILE}/{_SOURCE}/{file}'\n",
    "            t_arq = os.path.isfile(upload_file)\n",
    "            if t_arq == True:\n",
    "                 with open (upload_file, \"rb\") as data :\n",
    "                    blob.upload_blob(data, overwrite = True)\n",
    "                    print(\"Arquivo \"+ file +\" carregado\")\n",
    "            else:\n",
    "                print(\"Arquivo \"+ file +\" não encontrado\")\n",
    "        \n",
    "finally:\n",
    "    print(\"Tudo carregado\")\n",
    "    \n",
    "    "
   ]
  }
 ],
 "metadata": {
  "kernelspec": {
   "display_name": "Python 3",
   "language": "python",
   "name": "python3"
  },
  "language_info": {
   "codemirror_mode": {
    "name": "ipython",
    "version": 3
   },
   "file_extension": ".py",
   "mimetype": "text/x-python",
   "name": "python",
   "nbconvert_exporter": "python",
   "pygments_lexer": "ipython3",
   "version": "3.7.4"
  }
 },
 "nbformat": 4,
 "nbformat_minor": 4
}
