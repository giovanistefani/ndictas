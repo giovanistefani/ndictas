{
 "cells": [
  {
   "cell_type": "markdown",
   "metadata": {},
   "source": [
    "## Imports"
   ]
  },
  {
   "cell_type": "code",
   "execution_count": 27,
   "metadata": {},
   "outputs": [],
   "source": [
    "import os\n",
    "import shutil\n",
    "import petl as etl\n",
    "import csv\n",
    "from collections import OrderedDict"
   ]
  },
  {
   "cell_type": "markdown",
   "metadata": {},
   "source": [
    "## Busca Arquivos"
   ]
  },
  {
   "cell_type": "markdown",
   "metadata": {},
   "source": [
    "### Função"
   ]
  },
  {
   "cell_type": "code",
   "execution_count": 6,
   "metadata": {},
   "outputs": [],
   "source": [
    "def get_all_files_from_dir(folder_input):\n",
    "    return [os.path.join(folder_input, f) for f in os.listdir(folder_input) if os.path.isfile(os.path.join(folder_input, f))]"
   ]
  },
  {
   "cell_type": "markdown",
   "metadata": {},
   "source": [
    "### Busca"
   ]
  },
  {
   "cell_type": "code",
   "execution_count": 3,
   "metadata": {},
   "outputs": [
    {
     "data": {
      "text/plain": [
       "['datalake/empresas.p',\n",
       " 'datalake/prestadores.p',\n",
       " 'datalake/RECEITA 012018.csv',\n",
       " 'datalake/custos_fechados.p',\n",
       " 'datalake/procedimentos.p',\n",
       " 'datalake/receitas_mensalidades.p',\n",
       " 'datalake/receitas_coparticipacoes.p',\n",
       " 'datalake/beneficiarios.p']"
      ]
     },
     "execution_count": 3,
     "metadata": {},
     "output_type": "execute_result"
    }
   ],
   "source": [
    "folder_input = 'datalake'\n",
    "lista = get_all_files_from_dir(folder_input)\n",
    "lista"
   ]
  },
  {
   "cell_type": "markdown",
   "metadata": {},
   "source": [
    "### Verifica tamanho da lista de arquivos"
   ]
  },
  {
   "cell_type": "code",
   "execution_count": 94,
   "metadata": {},
   "outputs": [
    {
     "data": {
      "text/plain": [
       "7"
      ]
     },
     "execution_count": 94,
     "metadata": {},
     "output_type": "execute_result"
    }
   ],
   "source": [
    "# *** lista_len recebe o tamanho da lista ***\n",
    "lista_len = len(lista)\n",
    "lista_len"
   ]
  },
  {
   "cell_type": "markdown",
   "metadata": {},
   "source": [
    "### Move Arquivos"
   ]
  },
  {
   "cell_type": "code",
   "execution_count": 4,
   "metadata": {},
   "outputs": [
    {
     "ename": "NameError",
     "evalue": "name 'lista_len' is not defined",
     "output_type": "error",
     "traceback": [
      "\u001b[0;31m---------------------------------------------------------------------------\u001b[0m",
      "\u001b[0;31mNameError\u001b[0m                                 Traceback (most recent call last)",
      "\u001b[0;32m<ipython-input-4-c943f531cc0f>\u001b[0m in \u001b[0;36m<module>\u001b[0;34m\u001b[0m\n\u001b[1;32m      2\u001b[0m \u001b[0mx\u001b[0m \u001b[0;34m=\u001b[0m \u001b[0;36m0\u001b[0m\u001b[0;34m\u001b[0m\u001b[0;34m\u001b[0m\u001b[0m\n\u001b[1;32m      3\u001b[0m \u001b[0;34m\u001b[0m\u001b[0m\n\u001b[0;32m----> 4\u001b[0;31m \u001b[0;32mwhile\u001b[0m \u001b[0mx\u001b[0m \u001b[0;34m<\u001b[0m \u001b[0mlista_len\u001b[0m\u001b[0;34m:\u001b[0m\u001b[0;34m\u001b[0m\u001b[0;34m\u001b[0m\u001b[0m\n\u001b[0m\u001b[1;32m      5\u001b[0m     \u001b[0mmv\u001b[0m\u001b[0;34m=\u001b[0m\u001b[0mlista\u001b[0m\u001b[0;34m[\u001b[0m\u001b[0mx\u001b[0m\u001b[0;34m]\u001b[0m\u001b[0;34m\u001b[0m\u001b[0;34m\u001b[0m\u001b[0m\n\u001b[1;32m      6\u001b[0m     \u001b[0mshutil\u001b[0m\u001b[0;34m.\u001b[0m\u001b[0mcopy\u001b[0m\u001b[0;34m(\u001b[0m\u001b[0mmv\u001b[0m\u001b[0;34m,\u001b[0m \u001b[0mfolder_output\u001b[0m\u001b[0;34m)\u001b[0m\u001b[0;34m\u001b[0m\u001b[0;34m\u001b[0m\u001b[0m\n",
      "\u001b[0;31mNameError\u001b[0m: name 'lista_len' is not defined"
     ]
    }
   ],
   "source": [
    "folder_output = 'datalake/'\n",
    "x = 0\n",
    "\n",
    "while x < lista_len:\n",
    "    mv=lista[x]\n",
    "    shutil.copy(mv, folder_output) \n",
    "    x += 1"
   ]
  },
  {
   "cell_type": "markdown",
   "metadata": {},
   "source": [
    "### Procura nome de arquivo para o diretório"
   ]
  },
  {
   "cell_type": "code",
   "execution_count": 104,
   "metadata": {},
   "outputs": [
    {
     "data": {
      "text/plain": [
       "'beneficiarios'"
      ]
     },
     "execution_count": 104,
     "metadata": {},
     "output_type": "execute_result"
    }
   ],
   "source": [
    "def get_file_name_to_dir(file):\n",
    "    arq=file.split('/')[-1]\n",
    "    pasta=arq.split('.')\n",
    "    return pasta[0]"
   ]
  },
  {
   "cell_type": "code",
   "execution_count": 109,
   "metadata": {},
   "outputs": [
    {
     "data": {
      "text/plain": [
       "'beneficiarios'"
      ]
     },
     "execution_count": 109,
     "metadata": {},
     "output_type": "execute_result"
    }
   ],
   "source": [
    "teste=get_file_name_to_dir(mv)\n",
    "teste"
   ]
  },
  {
   "cell_type": "markdown",
   "metadata": {},
   "source": [
    "### Carrega o arquivo para a pasta certa"
   ]
  },
  {
   "cell_type": "code",
   "execution_count": 113,
   "metadata": {},
   "outputs": [],
   "source": [
    "folder_output = 'datalake'\n",
    "x = 0\n",
    "\n",
    "while x < lista_len:\n",
    "    mv=lista[x]\n",
    "    folder=get_file_name_to_dir(mv)\n",
    "    shutil.copy(mv, 'datalake/Sinpef/'+folder) \n",
    "    x += 1"
   ]
  },
  {
   "cell_type": "code",
   "execution_count": null,
   "metadata": {},
   "outputs": [],
   "source": [
    "# translate a field\n",
    "... mappings['gender'] = 'sex', {'male': 'M', 'female': 'F'}"
   ]
  },
  {
   "cell_type": "code",
   "execution_count": 28,
   "metadata": {},
   "outputs": [
    {
     "data": {
      "text/html": [
       "<table class='petl'>\n",
       "<thead>\n",
       "<tr>\n",
       "<th>﻿012018\t</th>\n",
       "<th>00000354000129\t</th>\n",
       "<th>16539926000190\t</th>\n",
       "<th>20180122\t</th>\n",
       "<th>20180215\t</th>\n",
       "<th>NULL\t</th>\n",
       "<th>NULL\t</th>\n",
       "<th>CONT\t</th>\n",
       "<th>949.09\t</th>\n",
       "<th>949.09\t</th>\n",
       "<th>NULL</th>\n",
       "</tr>\n",
       "</thead>\n",
       "<tbody>\n",
       "<tr>\n",
       "<td>012018\t</td>\n",
       "<td>00000354000129\t</td>\n",
       "<td>16539926000190\t</td>\n",
       "<td>20180122\t</td>\n",
       "<td>20180215\t</td>\n",
       "<td>NULL\t</td>\n",
       "<td>NULL\t</td>\n",
       "<td>PART\t</td>\n",
       "<td>30.71\t</td>\n",
       "<td>30.71\t</td>\n",
       "<td>NULL</td>\n",
       "</tr>\n",
       "<tr>\n",
       "<td>012018\t</td>\n",
       "<td>00000428000157\t</td>\n",
       "<td>16539926000190\t</td>\n",
       "<td>20180122\t</td>\n",
       "<td>20180126\t</td>\n",
       "<td>NULL\t</td>\n",
       "<td>NULL\t</td>\n",
       "<td>PART\t</td>\n",
       "<td>630.48\t</td>\n",
       "<td>630.48\t</td>\n",
       "<td>NULL</td>\n",
       "</tr>\n",
       "<tr>\n",
       "<td>012018\t</td>\n",
       "<td>00000551000210\t</td>\n",
       "<td>16539926000190\t</td>\n",
       "<td>NULL\t</td>\n",
       "<td>20180206\t</td>\n",
       "<td>NULL\t</td>\n",
       "<td>NULL\t</td>\n",
       "<td>PART\t</td>\n",
       "<td>185.96\t</td>\n",
       "<td>185.96\t</td>\n",
       "<td>NULL</td>\n",
       "</tr>\n",
       "<tr>\n",
       "<td>012018\t</td>\n",
       "<td>00000050000015\t</td>\n",
       "<td>03907799000192\t</td>\n",
       "<td>20180122\t</td>\n",
       "<td>20180215\t</td>\n",
       "<td>NULL\t</td>\n",
       "<td>NULL\t</td>\n",
       "<td>CONT\t</td>\n",
       "<td>384.14\t</td>\n",
       "<td>384.14\t</td>\n",
       "<td>NULL</td>\n",
       "</tr>\n",
       "<tr>\n",
       "<td>012018\t</td>\n",
       "<td>00000050000015\t</td>\n",
       "<td>03907799000192\t</td>\n",
       "<td>20180122\t</td>\n",
       "<td>20180215\t</td>\n",
       "<td>NULL\t</td>\n",
       "<td>NULL\t</td>\n",
       "<td>PART\t</td>\n",
       "<td>630.48\t</td>\n",
       "<td>630.48\t</td>\n",
       "<td>NULL</td>\n",
       "</tr>\n",
       "</tbody>\n",
       "</table>\n",
       "<p><strong>...</strong></p>"
      ],
      "text/plain": [
       "+------------+--------------------+--------------------+--------------+--------------+----------+----------+----------+------------+------------+--------+\n",
       "| ﻿012018\t   | 00000354000129\t    | 16539926000190\t    | 20180122\t    | 20180215\t    | NULL\t    | NULL\t    | CONT\t    | 949.09\t    | 949.09\t    | NULL   |\n",
       "+============+====================+====================+==============+==============+==========+==========+==========+============+============+========+\n",
       "| '012018\\t' | '00000354000129\\t' | '16539926000190\\t' | '20180122\\t' | '20180215\\t' | 'NULL\\t' | 'NULL\\t' | 'PART\\t' | '30.71\\t'  | '30.71\\t'  | 'NULL' |\n",
       "+------------+--------------------+--------------------+--------------+--------------+----------+----------+----------+------------+------------+--------+\n",
       "| '012018\\t' | '00000428000157\\t' | '16539926000190\\t' | '20180122\\t' | '20180126\\t' | 'NULL\\t' | 'NULL\\t' | 'PART\\t' | '630.48\\t' | '630.48\\t' | 'NULL' |\n",
       "+------------+--------------------+--------------------+--------------+--------------+----------+----------+----------+------------+------------+--------+\n",
       "| '012018\\t' | '00000551000210\\t' | '16539926000190\\t' | 'NULL\\t'     | '20180206\\t' | 'NULL\\t' | 'NULL\\t' | 'PART\\t' | '185.96\\t' | '185.96\\t' | 'NULL' |\n",
       "+------------+--------------------+--------------------+--------------+--------------+----------+----------+----------+------------+------------+--------+\n",
       "| '012018\\t' | '00000050000015\\t' | '03907799000192\\t' | '20180122\\t' | '20180215\\t' | 'NULL\\t' | 'NULL\\t' | 'CONT\\t' | '384.14\\t' | '384.14\\t' | 'NULL' |\n",
       "+------------+--------------------+--------------------+--------------+--------------+----------+----------+----------+------------+------------+--------+\n",
       "| '012018\\t' | '00000050000015\\t' | '03907799000192\\t' | '20180122\\t' | '20180215\\t' | 'NULL\\t' | 'NULL\\t' | 'PART\\t' | '630.48\\t' | '630.48\\t' | 'NULL' |\n",
       "+------------+--------------------+--------------------+--------------+--------------+----------+----------+----------+------------+------------+--------+\n",
       "..."
      ]
     },
     "execution_count": 28,
     "metadata": {},
     "output_type": "execute_result"
    }
   ],
   "source": [
    "table1 = etl.fromcsv('datalake/RECEITA 012018.csv', delimiter='|')\n",
    "table1"
   ]
  },
  {
   "cell_type": "code",
   "execution_count": 29,
   "metadata": {},
   "outputs": [],
   "source": [
    "table2 = etl.pushheader(table1, ['mes_competencia', 'fk_beneficiario','fk_empresa','dt_geracao_titulo','dt_pgto','nr_centro_custo','descricao_centro_custo','tipo_cobranca','vl_cobranca','vl_pago','tipo_cobranca_sub'])"
   ]
  },
  {
   "cell_type": "code",
   "execution_count": 30,
   "metadata": {},
   "outputs": [
    {
     "data": {
      "text/html": [
       "<table class='petl'>\n",
       "<thead>\n",
       "<tr>\n",
       "<th>mes_competencia</th>\n",
       "<th>fk_beneficiario</th>\n",
       "<th>fk_empresa</th>\n",
       "<th>dt_geracao_titulo</th>\n",
       "<th>dt_pgto</th>\n",
       "<th>nr_centro_custo</th>\n",
       "<th>descricao_centro_custo</th>\n",
       "<th>tipo_cobranca</th>\n",
       "<th>vl_cobranca</th>\n",
       "<th>vl_pago</th>\n",
       "<th>tipo_cobranca_sub</th>\n",
       "</tr>\n",
       "</thead>\n",
       "<tbody>\n",
       "<tr>\n",
       "<td>﻿012018\t</td>\n",
       "<td>00000354000129\t</td>\n",
       "<td>16539926000190\t</td>\n",
       "<td>20180122\t</td>\n",
       "<td>20180215\t</td>\n",
       "<td>NULL\t</td>\n",
       "<td>NULL\t</td>\n",
       "<td>CONT\t</td>\n",
       "<td>949.09\t</td>\n",
       "<td>949.09\t</td>\n",
       "<td>NULL</td>\n",
       "</tr>\n",
       "<tr>\n",
       "<td>012018\t</td>\n",
       "<td>00000354000129\t</td>\n",
       "<td>16539926000190\t</td>\n",
       "<td>20180122\t</td>\n",
       "<td>20180215\t</td>\n",
       "<td>NULL\t</td>\n",
       "<td>NULL\t</td>\n",
       "<td>PART\t</td>\n",
       "<td>30.71\t</td>\n",
       "<td>30.71\t</td>\n",
       "<td>NULL</td>\n",
       "</tr>\n",
       "<tr>\n",
       "<td>012018\t</td>\n",
       "<td>00000428000157\t</td>\n",
       "<td>16539926000190\t</td>\n",
       "<td>20180122\t</td>\n",
       "<td>20180126\t</td>\n",
       "<td>NULL\t</td>\n",
       "<td>NULL\t</td>\n",
       "<td>PART\t</td>\n",
       "<td>630.48\t</td>\n",
       "<td>630.48\t</td>\n",
       "<td>NULL</td>\n",
       "</tr>\n",
       "<tr>\n",
       "<td>012018\t</td>\n",
       "<td>00000551000210\t</td>\n",
       "<td>16539926000190\t</td>\n",
       "<td>NULL\t</td>\n",
       "<td>20180206\t</td>\n",
       "<td>NULL\t</td>\n",
       "<td>NULL\t</td>\n",
       "<td>PART\t</td>\n",
       "<td>185.96\t</td>\n",
       "<td>185.96\t</td>\n",
       "<td>NULL</td>\n",
       "</tr>\n",
       "<tr>\n",
       "<td>012018\t</td>\n",
       "<td>00000050000015\t</td>\n",
       "<td>03907799000192\t</td>\n",
       "<td>20180122\t</td>\n",
       "<td>20180215\t</td>\n",
       "<td>NULL\t</td>\n",
       "<td>NULL\t</td>\n",
       "<td>CONT\t</td>\n",
       "<td>384.14\t</td>\n",
       "<td>384.14\t</td>\n",
       "<td>NULL</td>\n",
       "</tr>\n",
       "</tbody>\n",
       "</table>\n",
       "<p><strong>...</strong></p>"
      ],
      "text/plain": [
       "+------------------+--------------------+--------------------+-------------------+--------------+-----------------+------------------------+---------------+-------------+------------+-------------------+\n",
       "| mes_competencia  | fk_beneficiario    | fk_empresa         | dt_geracao_titulo | dt_pgto      | nr_centro_custo | descricao_centro_custo | tipo_cobranca | vl_cobranca | vl_pago    | tipo_cobranca_sub |\n",
       "+==================+====================+====================+===================+==============+=================+========================+===============+=============+============+===================+\n",
       "| '\\ufeff012018\\t' | '00000354000129\\t' | '16539926000190\\t' | '20180122\\t'      | '20180215\\t' | 'NULL\\t'        | 'NULL\\t'               | 'CONT\\t'      | '949.09\\t'  | '949.09\\t' | 'NULL'            |\n",
       "+------------------+--------------------+--------------------+-------------------+--------------+-----------------+------------------------+---------------+-------------+------------+-------------------+\n",
       "| '012018\\t'       | '00000354000129\\t' | '16539926000190\\t' | '20180122\\t'      | '20180215\\t' | 'NULL\\t'        | 'NULL\\t'               | 'PART\\t'      | '30.71\\t'   | '30.71\\t'  | 'NULL'            |\n",
       "+------------------+--------------------+--------------------+-------------------+--------------+-----------------+------------------------+---------------+-------------+------------+-------------------+\n",
       "| '012018\\t'       | '00000428000157\\t' | '16539926000190\\t' | '20180122\\t'      | '20180126\\t' | 'NULL\\t'        | 'NULL\\t'               | 'PART\\t'      | '630.48\\t'  | '630.48\\t' | 'NULL'            |\n",
       "+------------------+--------------------+--------------------+-------------------+--------------+-----------------+------------------------+---------------+-------------+------------+-------------------+\n",
       "| '012018\\t'       | '00000551000210\\t' | '16539926000190\\t' | 'NULL\\t'          | '20180206\\t' | 'NULL\\t'        | 'NULL\\t'               | 'PART\\t'      | '185.96\\t'  | '185.96\\t' | 'NULL'            |\n",
       "+------------------+--------------------+--------------------+-------------------+--------------+-----------------+------------------------+---------------+-------------+------------+-------------------+\n",
       "| '012018\\t'       | '00000050000015\\t' | '03907799000192\\t' | '20180122\\t'      | '20180215\\t' | 'NULL\\t'        | 'NULL\\t'               | 'CONT\\t'      | '384.14\\t'  | '384.14\\t' | 'NULL'            |\n",
       "+------------------+--------------------+--------------------+-------------------+--------------+-----------------+------------------------+---------------+-------------+------------+-------------------+\n",
       "..."
      ]
     },
     "execution_count": 30,
     "metadata": {},
     "output_type": "execute_result"
    }
   ],
   "source": [
    "table2"
   ]
  },
  {
   "cell_type": "code",
   "execution_count": 61,
   "metadata": {},
   "outputs": [],
   "source": [
    "mappings = OrderedDict()\n",
    "mappings['data'] = 'dt_geracao_titulo', {'NULL': 'aaaaa'}\n",
    "                                #'sex', {'male': 'M', 'female': 'F'}"
   ]
  },
  {
   "cell_type": "code",
   "execution_count": 62,
   "metadata": {},
   "outputs": [
    {
     "data": {
      "text/html": [
       "<table class='petl'>\n",
       "<thead>\n",
       "<tr>\n",
       "<th>data</th>\n",
       "</tr>\n",
       "</thead>\n",
       "<tbody>\n",
       "</tbody>\n",
       "</table>\n"
      ],
      "text/plain": [
       "+------+\n",
       "| data |\n",
       "+======+"
      ]
     },
     "execution_count": 62,
     "metadata": {},
     "output_type": "execute_result"
    }
   ],
   "source": [
    "table3 = etl.fieldmap(table2, mappings)\n",
    "table3"
   ]
  },
  {
   "cell_type": "code",
   "execution_count": 54,
   "metadata": {},
   "outputs": [],
   "source": [
    "def rowmapper(row):\n",
    "     transmf = {'NULL': ''}\n",
    "     return [transmf[row['dt_geracao_titulo']] if row['dt_geracao_titulo'] in transmf else None,\n",
    "             ]"
   ]
  },
  {
   "cell_type": "code",
   "execution_count": 55,
   "metadata": {},
   "outputs": [],
   "source": [
    "table3 = etl.rowmap(table2, rowmapper,\n",
    "                     header=['mes_competencia', 'fk_beneficiario','fk_empresa','dt_geracao_titulo','dt_pgto','nr_centro_custo','descricao_centro_custo','tipo_cobranca','vl_cobranca','vl_pago','tipo_cobranca_sub'])"
   ]
  },
  {
   "cell_type": "code",
   "execution_count": 56,
   "metadata": {},
   "outputs": [
    {
     "data": {
      "text/html": [
       "<table class='petl'>\n",
       "<thead>\n",
       "<tr>\n",
       "<th>mes_competencia</th>\n",
       "<th>fk_beneficiario</th>\n",
       "<th>fk_empresa</th>\n",
       "<th>dt_geracao_titulo</th>\n",
       "<th>dt_pgto</th>\n",
       "<th>nr_centro_custo</th>\n",
       "<th>descricao_centro_custo</th>\n",
       "<th>tipo_cobranca</th>\n",
       "<th>vl_cobranca</th>\n",
       "<th>vl_pago</th>\n",
       "<th>tipo_cobranca_sub</th>\n",
       "</tr>\n",
       "</thead>\n",
       "<tbody>\n",
       "</tbody>\n",
       "</table>\n"
      ],
      "text/plain": [
       "+-----------------+-----------------+------------+-------------------+---------+-----------------+------------------------+---------------+-------------+---------+-------------------+\n",
       "| mes_competencia | fk_beneficiario | fk_empresa | dt_geracao_titulo | dt_pgto | nr_centro_custo | descricao_centro_custo | tipo_cobranca | vl_cobranca | vl_pago | tipo_cobranca_sub |\n",
       "+=================+=================+============+===================+=========+=================+========================+===============+=============+=========+===================+"
      ]
     },
     "execution_count": 56,
     "metadata": {},
     "output_type": "execute_result"
    }
   ],
   "source": [
    "table3"
   ]
  }
 ],
 "metadata": {
  "kernelspec": {
   "display_name": "Python 3",
   "language": "python",
   "name": "python3"
  },
  "language_info": {
   "codemirror_mode": {
    "name": "ipython",
    "version": 3
   },
   "file_extension": ".py",
   "mimetype": "text/x-python",
   "name": "python",
   "nbconvert_exporter": "python",
   "pygments_lexer": "ipython3",
   "version": "3.7.4"
  }
 },
 "nbformat": 4,
 "nbformat_minor": 4
}
