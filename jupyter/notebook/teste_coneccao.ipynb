{
 "cells": [
  {
   "cell_type": "markdown",
   "metadata": {},
   "source": [
    "## Imports"
   ]
  },
  {
   "cell_type": "code",
   "execution_count": 1,
   "metadata": {},
   "outputs": [],
   "source": [
    "import os\n",
    "import shutil\n",
    "import petl as etl\n",
    "import csv\n",
    "from collections import OrderedDict"
   ]
  },
  {
   "cell_type": "markdown",
   "metadata": {},
   "source": [
    "## Busca Arquivos"
   ]
  },
  {
   "cell_type": "markdown",
   "metadata": {},
   "source": [
    "### Função"
   ]
  },
  {
   "cell_type": "code",
   "execution_count": 2,
   "metadata": {},
   "outputs": [],
   "source": [
    "def get_all_files_from_dir(folder_input):\n",
    "    return [os.path.join(folder_input, f) for f in os.listdir(folder_input) if os.path.isfile(os.path.join(folder_input, f))]"
   ]
  },
  {
   "cell_type": "markdown",
   "metadata": {},
   "source": [
    "### Busca"
   ]
  },
  {
   "cell_type": "code",
   "execution_count": 3,
   "metadata": {},
   "outputs": [
    {
     "data": {
      "text/plain": [
       "['datalake/BENEFICIARIOS.csv', 'datalake/EXEMPLO.csv']"
      ]
     },
     "execution_count": 3,
     "metadata": {},
     "output_type": "execute_result"
    }
   ],
   "source": [
    "folder_input = 'datalake'\n",
    "lista = get_all_files_from_dir(folder_input)\n",
    "lista"
   ]
  },
  {
   "cell_type": "markdown",
   "metadata": {},
   "source": [
    "### Verifica tamanho da lista de arquivos"
   ]
  },
  {
   "cell_type": "code",
   "execution_count": 94,
   "metadata": {},
   "outputs": [
    {
     "data": {
      "text/plain": [
       "7"
      ]
     },
     "execution_count": 94,
     "metadata": {},
     "output_type": "execute_result"
    }
   ],
   "source": [
    "# *** lista_len recebe o tamanho da lista ***\n",
    "lista_len = len(lista)\n",
    "lista_len"
   ]
  },
  {
   "cell_type": "markdown",
   "metadata": {},
   "source": [
    "### Move Arquivos"
   ]
  },
  {
   "cell_type": "code",
   "execution_count": 4,
   "metadata": {},
   "outputs": [
    {
     "ename": "NameError",
     "evalue": "name 'lista_len' is not defined",
     "output_type": "error",
     "traceback": [
      "\u001b[0;31m---------------------------------------------------------------------------\u001b[0m",
      "\u001b[0;31mNameError\u001b[0m                                 Traceback (most recent call last)",
      "\u001b[0;32m<ipython-input-4-c943f531cc0f>\u001b[0m in \u001b[0;36m<module>\u001b[0;34m\u001b[0m\n\u001b[1;32m      2\u001b[0m \u001b[0mx\u001b[0m \u001b[0;34m=\u001b[0m \u001b[0;36m0\u001b[0m\u001b[0;34m\u001b[0m\u001b[0;34m\u001b[0m\u001b[0m\n\u001b[1;32m      3\u001b[0m \u001b[0;34m\u001b[0m\u001b[0m\n\u001b[0;32m----> 4\u001b[0;31m \u001b[0;32mwhile\u001b[0m \u001b[0mx\u001b[0m \u001b[0;34m<\u001b[0m \u001b[0mlista_len\u001b[0m\u001b[0;34m:\u001b[0m\u001b[0;34m\u001b[0m\u001b[0;34m\u001b[0m\u001b[0m\n\u001b[0m\u001b[1;32m      5\u001b[0m     \u001b[0mmv\u001b[0m\u001b[0;34m=\u001b[0m\u001b[0mlista\u001b[0m\u001b[0;34m[\u001b[0m\u001b[0mx\u001b[0m\u001b[0;34m]\u001b[0m\u001b[0;34m\u001b[0m\u001b[0;34m\u001b[0m\u001b[0m\n\u001b[1;32m      6\u001b[0m     \u001b[0mshutil\u001b[0m\u001b[0;34m.\u001b[0m\u001b[0mcopy\u001b[0m\u001b[0;34m(\u001b[0m\u001b[0mmv\u001b[0m\u001b[0;34m,\u001b[0m \u001b[0mfolder_output\u001b[0m\u001b[0;34m)\u001b[0m\u001b[0;34m\u001b[0m\u001b[0;34m\u001b[0m\u001b[0m\n",
      "\u001b[0;31mNameError\u001b[0m: name 'lista_len' is not defined"
     ]
    }
   ],
   "source": [
    "folder_output = 'datalake/'\n",
    "x = 0\n",
    "\n",
    "while x < lista_len:\n",
    "    mv=lista[x]\n",
    "    shutil.copy(mv, folder_output) \n",
    "    x += 1"
   ]
  },
  {
   "cell_type": "markdown",
   "metadata": {},
   "source": [
    "### Procura nome de arquivo para o diretório"
   ]
  },
  {
   "cell_type": "code",
   "execution_count": 104,
   "metadata": {},
   "outputs": [
    {
     "data": {
      "text/plain": [
       "'beneficiarios'"
      ]
     },
     "execution_count": 104,
     "metadata": {},
     "output_type": "execute_result"
    }
   ],
   "source": [
    "def get_file_name_to_dir(file):\n",
    "    arq=file.split('/')[-1]\n",
    "    pasta=arq.split('.')\n",
    "    return pasta[0]"
   ]
  },
  {
   "cell_type": "code",
   "execution_count": 109,
   "metadata": {},
   "outputs": [
    {
     "data": {
      "text/plain": [
       "'beneficiarios'"
      ]
     },
     "execution_count": 109,
     "metadata": {},
     "output_type": "execute_result"
    }
   ],
   "source": [
    "teste=get_file_name_to_dir(mv)\n",
    "teste"
   ]
  },
  {
   "cell_type": "markdown",
   "metadata": {},
   "source": [
    "### Carrega o arquivo para a pasta certa"
   ]
  },
  {
   "cell_type": "code",
   "execution_count": 113,
   "metadata": {},
   "outputs": [],
   "source": [
    "folder_output = 'datalake'\n",
    "x = 0\n",
    "\n",
    "while x < lista_len:\n",
    "    mv=lista[x]\n",
    "    folder=get_file_name_to_dir(mv)\n",
    "    shutil.copy(mv, 'datalake/Sinpef/'+folder) \n",
    "    x += 1"
   ]
  },
  {
   "cell_type": "code",
   "execution_count": null,
   "metadata": {},
   "outputs": [],
   "source": [
    "# translate a field\n",
    "... mappings['gender'] = 'sex', {'male': 'M', 'female': 'F'}"
   ]
  },
  {
   "cell_type": "code",
   "execution_count": 4,
   "metadata": {},
   "outputs": [
    {
     "data": {
      "text/html": [
       "<table class='petl'>\n",
       "<thead>\n",
       "<tr>\n",
       "<th>﻿pk_beneficiario</th>\n",
       "<th>nr_beneficiario</th>\n",
       "<th>nr_beneficiario_tit</th>\n",
       "<th>fk_empresa</th>\n",
       "<th>nome</th>\n",
       "<th>cpf</th>\n",
       "<th>dt_nascimento</th>\n",
       "<th>cod_plano</th>\n",
       "<th>descricao_plano</th>\n",
       "<th>copart_percentual</th>\n",
       "<th>limite_copart</th>\n",
       "<th>tipo_acomodacao</th>\n",
       "<th>abrangencia_plano</th>\n",
       "<th>grau_dependencia</th>\n",
       "<th>dt_inclusao</th>\n",
       "<th>dt_exclusao</th>\n",
       "<th>nome_mae</th>\n",
       "<th>sexo</th>\n",
       "<th>tipo_contrato</th>\n",
       "<th>endereco</th>\n",
       "<th>bairro</th>\n",
       "<th>cidade</th>\n",
       "<th>uf</th>\n",
       "<th>cep</th>\n",
       "<th>tipo_cliente</th>\n",
       "<th>nr_cartaonacionalsaude</th>\n",
       "<th>plano_regulamentado</th>\n",
       "<th>descricao_entidade</th>\n",
       "<th>tipo_pessoa</th>\n",
       "<th>acao_judicial</th>\n",
       "</tr>\n",
       "</thead>\n",
       "<tbody>\n",
       "<tr>\n",
       "<td>1000001771</td>\n",
       "<td>2051128001972</td>\n",
       "<td>2051128001964</td>\n",
       "<td>1251</td>\n",
       "<td>ABYR SOARES BECKER</td>\n",
       "<td>044.756.580-04</td>\n",
       "<td>29/10/1945</td>\n",
       "<td>51128</td>\n",
       "<td>51128 - Faixa etária - Privativo</td>\n",
       "<td>NULL</td>\n",
       "<td>NULL</td>\n",
       "<td>APARTAMENTO</td>\n",
       "<td>NACIONAL</td>\n",
       "<td>PAI/MAE</td>\n",
       "<td>01/12/2016</td>\n",
       "<td>NULL</td>\n",
       "<td>NULL</td>\n",
       "<td>M</td>\n",
       "<td>PRÉ PAGAMENTO</td>\n",
       "<td>NULL</td>\n",
       "<td>NULL</td>\n",
       "<td>NULL</td>\n",
       "<td>NULL</td>\n",
       "<td>NULL</td>\n",
       "<td>NULL</td>\n",
       "<td>NULL</td>\n",
       "<td>SIM</td>\n",
       "<td>NULL</td>\n",
       "<td>PF</td>\n",
       "<td>NULL</td>\n",
       "</tr>\n",
       "<tr>\n",
       "<td>1000002448</td>\n",
       "<td>2051128004262</td>\n",
       "<td>2000559001357</td>\n",
       "<td>1251</td>\n",
       "<td>ADALBERTO PIRES DE VARGAS</td>\n",
       "<td>179.096.510-15</td>\n",
       "<td>28/10/1937</td>\n",
       "<td>559</td>\n",
       "<td>00559 - Sem faixa etária - Privativo</td>\n",
       "<td>NULL</td>\n",
       "<td>NULL</td>\n",
       "<td>APARTAMENTO</td>\n",
       "<td>NACIONAL</td>\n",
       "<td>AGREGADO/OUTROS</td>\n",
       "<td>01/07/2000</td>\n",
       "<td>NULL</td>\n",
       "<td>NULL</td>\n",
       "<td>M</td>\n",
       "<td>PRÉ PAGAMENTO</td>\n",
       "<td>NULL</td>\n",
       "<td>NULL</td>\n",
       "<td>NULL</td>\n",
       "<td>NULL</td>\n",
       "<td>NULL</td>\n",
       "<td>NULL</td>\n",
       "<td>NULL</td>\n",
       "<td>NÃO</td>\n",
       "<td>NULL</td>\n",
       "<td>PF</td>\n",
       "<td>NULL</td>\n",
       "</tr>\n",
       "<tr>\n",
       "<td>1000001137</td>\n",
       "<td>2000559001390</td>\n",
       "<td>2000559001357</td>\n",
       "<td>1251</td>\n",
       "<td>ADALBERTO PIRES DE VARGAS</td>\n",
       "<td>179.096.510-15</td>\n",
       "<td>28/10/1937</td>\n",
       "<td>559</td>\n",
       "<td>00559 - Sem faixa etária - Privativo</td>\n",
       "<td>NULL</td>\n",
       "<td>NULL</td>\n",
       "<td>APARTAMENTO</td>\n",
       "<td>NACIONAL</td>\n",
       "<td>PAI/MAE</td>\n",
       "<td>01/07/2000</td>\n",
       "<td>NULL</td>\n",
       "<td>NULL</td>\n",
       "<td>M</td>\n",
       "<td>PRÉ PAGAMENTO</td>\n",
       "<td>NULL</td>\n",
       "<td>NULL</td>\n",
       "<td>NULL</td>\n",
       "<td>NULL</td>\n",
       "<td>NULL</td>\n",
       "<td>NULL</td>\n",
       "<td>NULL</td>\n",
       "<td>NÃO</td>\n",
       "<td>NULL</td>\n",
       "<td>PF</td>\n",
       "<td>NULL</td>\n",
       "</tr>\n",
       "<tr>\n",
       "<td>1000000569</td>\n",
       "<td>2051125006353</td>\n",
       "<td>2051125006353</td>\n",
       "<td>1251</td>\n",
       "<td>ADALNEI APARECIDO MICHALSKI</td>\n",
       "<td>008.725.969-90</td>\n",
       "<td>30/11/1981</td>\n",
       "<td>51125</td>\n",
       "<td>51125 - Faixa etária - Semiprivativo</td>\n",
       "<td>NULL</td>\n",
       "<td>NULL</td>\n",
       "<td>ENFERMARIA</td>\n",
       "<td>NACIONAL</td>\n",
       "<td>TITULAR</td>\n",
       "<td>01/02/2018</td>\n",
       "<td>NULL</td>\n",
       "<td>NULL</td>\n",
       "<td>M</td>\n",
       "<td>PRÉ PAGAMENTO</td>\n",
       "<td>NULL</td>\n",
       "<td>NULL</td>\n",
       "<td>NULL</td>\n",
       "<td>NULL</td>\n",
       "<td>NULL</td>\n",
       "<td>NULL</td>\n",
       "<td>NULL</td>\n",
       "<td>SIM</td>\n",
       "<td>NULL</td>\n",
       "<td>PF</td>\n",
       "<td>NULL</td>\n",
       "</tr>\n",
       "<tr>\n",
       "<td>1000002196</td>\n",
       "<td>2051128001611</td>\n",
       "<td>2051128001611</td>\n",
       "<td>1251</td>\n",
       "<td>ADALNEI APARECIDO MICHALSKI</td>\n",
       "<td>008.725.969-90</td>\n",
       "<td>30/11/1981</td>\n",
       "<td>51128</td>\n",
       "<td>51128 - Faixa etária - Privativo</td>\n",
       "<td>NULL</td>\n",
       "<td>NULL</td>\n",
       "<td>APARTAMENTO</td>\n",
       "<td>NACIONAL</td>\n",
       "<td>TITULAR</td>\n",
       "<td>01/07/2000</td>\n",
       "<td>NULL</td>\n",
       "<td>NULL</td>\n",
       "<td>M</td>\n",
       "<td>PRÉ PAGAMENTO</td>\n",
       "<td>NULL</td>\n",
       "<td>NULL</td>\n",
       "<td>NULL</td>\n",
       "<td>NULL</td>\n",
       "<td>NULL</td>\n",
       "<td>NULL</td>\n",
       "<td>NULL</td>\n",
       "<td>SIM</td>\n",
       "<td>NULL</td>\n",
       "<td>PF</td>\n",
       "<td>NULL</td>\n",
       "</tr>\n",
       "</tbody>\n",
       "</table>\n",
       "<p><strong>...</strong></p>"
      ],
      "text/plain": [
       "+------------------+-----------------+---------------------+------------+-------------------------------+------------------+---------------+-----------+----------------------------------------+-------------------+---------------+-----------------+-------------------+-------------------+--------------+-------------+----------+------+-----------------+----------+--------+--------+--------+--------+--------------+------------------------+---------------------+--------------------+-------------+---------------+\n",
       "| ﻿pk_beneficiario | nr_beneficiario | nr_beneficiario_tit | fk_empresa | nome                          | cpf              | dt_nascimento | cod_plano | descricao_plano                        | copart_percentual | limite_copart | tipo_acomodacao | abrangencia_plano | grau_dependencia  | dt_inclusao  | dt_exclusao | nome_mae | sexo | tipo_contrato   | endereco | bairro | cidade | uf     | cep    | tipo_cliente | nr_cartaonacionalsaude | plano_regulamentado | descricao_entidade | tipo_pessoa | acao_judicial |\n",
       "+==================+=================+=====================+============+===============================+==================+===============+===========+========================================+===================+===============+=================+===================+===================+==============+=============+==========+======+=================+==========+========+========+========+========+==============+========================+=====================+====================+=============+===============+\n",
       "| '1000001771'     | '2051128001972' | '2051128001964'     | '1251'     | 'ABYR SOARES BECKER'          | '044.756.580-04' | '29/10/1945'  | '51128'   | '51128 - Faixa etária - Privativo'     | 'NULL'            | 'NULL'        | 'APARTAMENTO'   | 'NACIONAL'        | 'PAI/MAE'         | '01/12/2016' | 'NULL'      | 'NULL'   | 'M'  | 'PRÉ PAGAMENTO' | 'NULL'   | 'NULL' | 'NULL' | 'NULL' | 'NULL' | 'NULL'       | 'NULL'                 | 'SIM'               | 'NULL'             | 'PF'        | 'NULL'        |\n",
       "+------------------+-----------------+---------------------+------------+-------------------------------+------------------+---------------+-----------+----------------------------------------+-------------------+---------------+-----------------+-------------------+-------------------+--------------+-------------+----------+------+-----------------+----------+--------+--------+--------+--------+--------------+------------------------+---------------------+--------------------+-------------+---------------+\n",
       "| '1000002448'     | '2051128004262' | '2000559001357'     | '1251'     | 'ADALBERTO PIRES DE VARGAS'   | '179.096.510-15' | '28/10/1937'  | '559'     | '00559 - Sem faixa etária - Privativo' | 'NULL'            | 'NULL'        | 'APARTAMENTO'   | 'NACIONAL'        | 'AGREGADO/OUTROS' | '01/07/2000' | 'NULL'      | 'NULL'   | 'M'  | 'PRÉ PAGAMENTO' | 'NULL'   | 'NULL' | 'NULL' | 'NULL' | 'NULL' | 'NULL'       | 'NULL'                 | 'NÃO'               | 'NULL'             | 'PF'        | 'NULL'        |\n",
       "+------------------+-----------------+---------------------+------------+-------------------------------+------------------+---------------+-----------+----------------------------------------+-------------------+---------------+-----------------+-------------------+-------------------+--------------+-------------+----------+------+-----------------+----------+--------+--------+--------+--------+--------------+------------------------+---------------------+--------------------+-------------+---------------+\n",
       "| '1000001137'     | '2000559001390' | '2000559001357'     | '1251'     | 'ADALBERTO PIRES DE VARGAS'   | '179.096.510-15' | '28/10/1937'  | '559'     | '00559 - Sem faixa etária - Privativo' | 'NULL'            | 'NULL'        | 'APARTAMENTO'   | 'NACIONAL'        | 'PAI/MAE'         | '01/07/2000' | 'NULL'      | 'NULL'   | 'M'  | 'PRÉ PAGAMENTO' | 'NULL'   | 'NULL' | 'NULL' | 'NULL' | 'NULL' | 'NULL'       | 'NULL'                 | 'NÃO'               | 'NULL'             | 'PF'        | 'NULL'        |\n",
       "+------------------+-----------------+---------------------+------------+-------------------------------+------------------+---------------+-----------+----------------------------------------+-------------------+---------------+-----------------+-------------------+-------------------+--------------+-------------+----------+------+-----------------+----------+--------+--------+--------+--------+--------------+------------------------+---------------------+--------------------+-------------+---------------+\n",
       "| '1000000569'     | '2051125006353' | '2051125006353'     | '1251'     | 'ADALNEI APARECIDO MICHALSKI' | '008.725.969-90' | '30/11/1981'  | '51125'   | '51125 - Faixa etária - Semiprivativo' | 'NULL'            | 'NULL'        | 'ENFERMARIA'    | 'NACIONAL'        | 'TITULAR'         | '01/02/2018' | 'NULL'      | 'NULL'   | 'M'  | 'PRÉ PAGAMENTO' | 'NULL'   | 'NULL' | 'NULL' | 'NULL' | 'NULL' | 'NULL'       | 'NULL'                 | 'SIM'               | 'NULL'             | 'PF'        | 'NULL'        |\n",
       "+------------------+-----------------+---------------------+------------+-------------------------------+------------------+---------------+-----------+----------------------------------------+-------------------+---------------+-----------------+-------------------+-------------------+--------------+-------------+----------+------+-----------------+----------+--------+--------+--------+--------+--------------+------------------------+---------------------+--------------------+-------------+---------------+\n",
       "| '1000002196'     | '2051128001611' | '2051128001611'     | '1251'     | 'ADALNEI APARECIDO MICHALSKI' | '008.725.969-90' | '30/11/1981'  | '51128'   | '51128 - Faixa etária - Privativo'     | 'NULL'            | 'NULL'        | 'APARTAMENTO'   | 'NACIONAL'        | 'TITULAR'         | '01/07/2000' | 'NULL'      | 'NULL'   | 'M'  | 'PRÉ PAGAMENTO' | 'NULL'   | 'NULL' | 'NULL' | 'NULL' | 'NULL' | 'NULL'       | 'NULL'                 | 'SIM'               | 'NULL'             | 'PF'        | 'NULL'        |\n",
       "+------------------+-----------------+---------------------+------------+-------------------------------+------------------+---------------+-----------+----------------------------------------+-------------------+---------------+-----------------+-------------------+-------------------+--------------+-------------+----------+------+-----------------+----------+--------+--------+--------+--------+--------------+------------------------+---------------------+--------------------+-------------+---------------+\n",
       "..."
      ]
     },
     "execution_count": 4,
     "metadata": {},
     "output_type": "execute_result"
    }
   ],
   "source": [
    "table1 = etl.fromcsv('datalake/BENEFICIARIOS.csv', delimiter='|')\n",
    "table1"
   ]
  },
  {
   "cell_type": "code",
   "execution_count": 7,
   "metadata": {},
   "outputs": [],
   "source": [
    "table2 = etl.cutout(table1, 'fk_empresa', 'nome', 'descricao_plano')"
   ]
  },
  {
   "cell_type": "code",
   "execution_count": 8,
   "metadata": {},
   "outputs": [
    {
     "data": {
      "text/html": [
       "<table class='petl'>\n",
       "<thead>\n",
       "<tr>\n",
       "<th>﻿pk_beneficiario</th>\n",
       "<th>nr_beneficiario</th>\n",
       "<th>nr_beneficiario_tit</th>\n",
       "<th>cpf</th>\n",
       "<th>dt_nascimento</th>\n",
       "<th>cod_plano</th>\n",
       "<th>copart_percentual</th>\n",
       "<th>limite_copart</th>\n",
       "<th>tipo_acomodacao</th>\n",
       "<th>abrangencia_plano</th>\n",
       "<th>grau_dependencia</th>\n",
       "<th>dt_inclusao</th>\n",
       "<th>dt_exclusao</th>\n",
       "<th>nome_mae</th>\n",
       "<th>sexo</th>\n",
       "<th>tipo_contrato</th>\n",
       "<th>endereco</th>\n",
       "<th>bairro</th>\n",
       "<th>cidade</th>\n",
       "<th>uf</th>\n",
       "<th>cep</th>\n",
       "<th>tipo_cliente</th>\n",
       "<th>nr_cartaonacionalsaude</th>\n",
       "<th>plano_regulamentado</th>\n",
       "<th>descricao_entidade</th>\n",
       "<th>tipo_pessoa</th>\n",
       "<th>acao_judicial</th>\n",
       "</tr>\n",
       "</thead>\n",
       "<tbody>\n",
       "<tr>\n",
       "<td>1000001771</td>\n",
       "<td>2051128001972</td>\n",
       "<td>2051128001964</td>\n",
       "<td>044.756.580-04</td>\n",
       "<td>29/10/1945</td>\n",
       "<td>51128</td>\n",
       "<td>NULL</td>\n",
       "<td>NULL</td>\n",
       "<td>APARTAMENTO</td>\n",
       "<td>NACIONAL</td>\n",
       "<td>PAI/MAE</td>\n",
       "<td>01/12/2016</td>\n",
       "<td>NULL</td>\n",
       "<td>NULL</td>\n",
       "<td>M</td>\n",
       "<td>PRÉ PAGAMENTO</td>\n",
       "<td>NULL</td>\n",
       "<td>NULL</td>\n",
       "<td>NULL</td>\n",
       "<td>NULL</td>\n",
       "<td>NULL</td>\n",
       "<td>NULL</td>\n",
       "<td>NULL</td>\n",
       "<td>SIM</td>\n",
       "<td>NULL</td>\n",
       "<td>PF</td>\n",
       "<td>NULL</td>\n",
       "</tr>\n",
       "<tr>\n",
       "<td>1000002448</td>\n",
       "<td>2051128004262</td>\n",
       "<td>2000559001357</td>\n",
       "<td>179.096.510-15</td>\n",
       "<td>28/10/1937</td>\n",
       "<td>559</td>\n",
       "<td>NULL</td>\n",
       "<td>NULL</td>\n",
       "<td>APARTAMENTO</td>\n",
       "<td>NACIONAL</td>\n",
       "<td>AGREGADO/OUTROS</td>\n",
       "<td>01/07/2000</td>\n",
       "<td>NULL</td>\n",
       "<td>NULL</td>\n",
       "<td>M</td>\n",
       "<td>PRÉ PAGAMENTO</td>\n",
       "<td>NULL</td>\n",
       "<td>NULL</td>\n",
       "<td>NULL</td>\n",
       "<td>NULL</td>\n",
       "<td>NULL</td>\n",
       "<td>NULL</td>\n",
       "<td>NULL</td>\n",
       "<td>NÃO</td>\n",
       "<td>NULL</td>\n",
       "<td>PF</td>\n",
       "<td>NULL</td>\n",
       "</tr>\n",
       "<tr>\n",
       "<td>1000001137</td>\n",
       "<td>2000559001390</td>\n",
       "<td>2000559001357</td>\n",
       "<td>179.096.510-15</td>\n",
       "<td>28/10/1937</td>\n",
       "<td>559</td>\n",
       "<td>NULL</td>\n",
       "<td>NULL</td>\n",
       "<td>APARTAMENTO</td>\n",
       "<td>NACIONAL</td>\n",
       "<td>PAI/MAE</td>\n",
       "<td>01/07/2000</td>\n",
       "<td>NULL</td>\n",
       "<td>NULL</td>\n",
       "<td>M</td>\n",
       "<td>PRÉ PAGAMENTO</td>\n",
       "<td>NULL</td>\n",
       "<td>NULL</td>\n",
       "<td>NULL</td>\n",
       "<td>NULL</td>\n",
       "<td>NULL</td>\n",
       "<td>NULL</td>\n",
       "<td>NULL</td>\n",
       "<td>NÃO</td>\n",
       "<td>NULL</td>\n",
       "<td>PF</td>\n",
       "<td>NULL</td>\n",
       "</tr>\n",
       "<tr>\n",
       "<td>1000000569</td>\n",
       "<td>2051125006353</td>\n",
       "<td>2051125006353</td>\n",
       "<td>008.725.969-90</td>\n",
       "<td>30/11/1981</td>\n",
       "<td>51125</td>\n",
       "<td>NULL</td>\n",
       "<td>NULL</td>\n",
       "<td>ENFERMARIA</td>\n",
       "<td>NACIONAL</td>\n",
       "<td>TITULAR</td>\n",
       "<td>01/02/2018</td>\n",
       "<td>NULL</td>\n",
       "<td>NULL</td>\n",
       "<td>M</td>\n",
       "<td>PRÉ PAGAMENTO</td>\n",
       "<td>NULL</td>\n",
       "<td>NULL</td>\n",
       "<td>NULL</td>\n",
       "<td>NULL</td>\n",
       "<td>NULL</td>\n",
       "<td>NULL</td>\n",
       "<td>NULL</td>\n",
       "<td>SIM</td>\n",
       "<td>NULL</td>\n",
       "<td>PF</td>\n",
       "<td>NULL</td>\n",
       "</tr>\n",
       "<tr>\n",
       "<td>1000002196</td>\n",
       "<td>2051128001611</td>\n",
       "<td>2051128001611</td>\n",
       "<td>008.725.969-90</td>\n",
       "<td>30/11/1981</td>\n",
       "<td>51128</td>\n",
       "<td>NULL</td>\n",
       "<td>NULL</td>\n",
       "<td>APARTAMENTO</td>\n",
       "<td>NACIONAL</td>\n",
       "<td>TITULAR</td>\n",
       "<td>01/07/2000</td>\n",
       "<td>NULL</td>\n",
       "<td>NULL</td>\n",
       "<td>M</td>\n",
       "<td>PRÉ PAGAMENTO</td>\n",
       "<td>NULL</td>\n",
       "<td>NULL</td>\n",
       "<td>NULL</td>\n",
       "<td>NULL</td>\n",
       "<td>NULL</td>\n",
       "<td>NULL</td>\n",
       "<td>NULL</td>\n",
       "<td>SIM</td>\n",
       "<td>NULL</td>\n",
       "<td>PF</td>\n",
       "<td>NULL</td>\n",
       "</tr>\n",
       "</tbody>\n",
       "</table>\n",
       "<p><strong>...</strong></p>"
      ],
      "text/plain": [
       "+------------------+-----------------+---------------------+------------------+---------------+-----------+-------------------+---------------+-----------------+-------------------+-------------------+--------------+-------------+----------+------+-----------------+----------+--------+--------+--------+--------+--------------+------------------------+---------------------+--------------------+-------------+---------------+\n",
       "| ﻿pk_beneficiario | nr_beneficiario | nr_beneficiario_tit | cpf              | dt_nascimento | cod_plano | copart_percentual | limite_copart | tipo_acomodacao | abrangencia_plano | grau_dependencia  | dt_inclusao  | dt_exclusao | nome_mae | sexo | tipo_contrato   | endereco | bairro | cidade | uf     | cep    | tipo_cliente | nr_cartaonacionalsaude | plano_regulamentado | descricao_entidade | tipo_pessoa | acao_judicial |\n",
       "+==================+=================+=====================+==================+===============+===========+===================+===============+=================+===================+===================+==============+=============+==========+======+=================+==========+========+========+========+========+==============+========================+=====================+====================+=============+===============+\n",
       "| '1000001771'     | '2051128001972' | '2051128001964'     | '044.756.580-04' | '29/10/1945'  | '51128'   | 'NULL'            | 'NULL'        | 'APARTAMENTO'   | 'NACIONAL'        | 'PAI/MAE'         | '01/12/2016' | 'NULL'      | 'NULL'   | 'M'  | 'PRÉ PAGAMENTO' | 'NULL'   | 'NULL' | 'NULL' | 'NULL' | 'NULL' | 'NULL'       | 'NULL'                 | 'SIM'               | 'NULL'             | 'PF'        | 'NULL'        |\n",
       "+------------------+-----------------+---------------------+------------------+---------------+-----------+-------------------+---------------+-----------------+-------------------+-------------------+--------------+-------------+----------+------+-----------------+----------+--------+--------+--------+--------+--------------+------------------------+---------------------+--------------------+-------------+---------------+\n",
       "| '1000002448'     | '2051128004262' | '2000559001357'     | '179.096.510-15' | '28/10/1937'  | '559'     | 'NULL'            | 'NULL'        | 'APARTAMENTO'   | 'NACIONAL'        | 'AGREGADO/OUTROS' | '01/07/2000' | 'NULL'      | 'NULL'   | 'M'  | 'PRÉ PAGAMENTO' | 'NULL'   | 'NULL' | 'NULL' | 'NULL' | 'NULL' | 'NULL'       | 'NULL'                 | 'NÃO'               | 'NULL'             | 'PF'        | 'NULL'        |\n",
       "+------------------+-----------------+---------------------+------------------+---------------+-----------+-------------------+---------------+-----------------+-------------------+-------------------+--------------+-------------+----------+------+-----------------+----------+--------+--------+--------+--------+--------------+------------------------+---------------------+--------------------+-------------+---------------+\n",
       "| '1000001137'     | '2000559001390' | '2000559001357'     | '179.096.510-15' | '28/10/1937'  | '559'     | 'NULL'            | 'NULL'        | 'APARTAMENTO'   | 'NACIONAL'        | 'PAI/MAE'         | '01/07/2000' | 'NULL'      | 'NULL'   | 'M'  | 'PRÉ PAGAMENTO' | 'NULL'   | 'NULL' | 'NULL' | 'NULL' | 'NULL' | 'NULL'       | 'NULL'                 | 'NÃO'               | 'NULL'             | 'PF'        | 'NULL'        |\n",
       "+------------------+-----------------+---------------------+------------------+---------------+-----------+-------------------+---------------+-----------------+-------------------+-------------------+--------------+-------------+----------+------+-----------------+----------+--------+--------+--------+--------+--------------+------------------------+---------------------+--------------------+-------------+---------------+\n",
       "| '1000000569'     | '2051125006353' | '2051125006353'     | '008.725.969-90' | '30/11/1981'  | '51125'   | 'NULL'            | 'NULL'        | 'ENFERMARIA'    | 'NACIONAL'        | 'TITULAR'         | '01/02/2018' | 'NULL'      | 'NULL'   | 'M'  | 'PRÉ PAGAMENTO' | 'NULL'   | 'NULL' | 'NULL' | 'NULL' | 'NULL' | 'NULL'       | 'NULL'                 | 'SIM'               | 'NULL'             | 'PF'        | 'NULL'        |\n",
       "+------------------+-----------------+---------------------+------------------+---------------+-----------+-------------------+---------------+-----------------+-------------------+-------------------+--------------+-------------+----------+------+-----------------+----------+--------+--------+--------+--------+--------------+------------------------+---------------------+--------------------+-------------+---------------+\n",
       "| '1000002196'     | '2051128001611' | '2051128001611'     | '008.725.969-90' | '30/11/1981'  | '51128'   | 'NULL'            | 'NULL'        | 'APARTAMENTO'   | 'NACIONAL'        | 'TITULAR'         | '01/07/2000' | 'NULL'      | 'NULL'   | 'M'  | 'PRÉ PAGAMENTO' | 'NULL'   | 'NULL' | 'NULL' | 'NULL' | 'NULL' | 'NULL'       | 'NULL'                 | 'SIM'               | 'NULL'             | 'PF'        | 'NULL'        |\n",
       "+------------------+-----------------+---------------------+------------------+---------------+-----------+-------------------+---------------+-----------------+-------------------+-------------------+--------------+-------------+----------+------+-----------------+----------+--------+--------+--------+--------+--------------+------------------------+---------------------+--------------------+-------------+---------------+\n",
       "..."
      ]
     },
     "execution_count": 8,
     "metadata": {},
     "output_type": "execute_result"
    }
   ],
   "source": [
    "table2"
   ]
  },
  {
   "cell_type": "code",
   "execution_count": 61,
   "metadata": {},
   "outputs": [],
   "source": [
    "mappings = OrderedDict()\n",
    "mappings['data'] = 'dt_geracao_titulo', {'NULL': 'aaaaa'}\n",
    "                                #'sex', {'male': 'M', 'female': 'F'}"
   ]
  },
  {
   "cell_type": "code",
   "execution_count": 62,
   "metadata": {},
   "outputs": [
    {
     "data": {
      "text/html": [
       "<table class='petl'>\n",
       "<thead>\n",
       "<tr>\n",
       "<th>data</th>\n",
       "</tr>\n",
       "</thead>\n",
       "<tbody>\n",
       "</tbody>\n",
       "</table>\n"
      ],
      "text/plain": [
       "+------+\n",
       "| data |\n",
       "+======+"
      ]
     },
     "execution_count": 62,
     "metadata": {},
     "output_type": "execute_result"
    }
   ],
   "source": [
    "table3 = etl.fieldmap(table2, mappings)\n",
    "table3"
   ]
  },
  {
   "cell_type": "code",
   "execution_count": 54,
   "metadata": {},
   "outputs": [],
   "source": [
    "def rowmapper(row):\n",
    "     transmf = {'NULL': ''}\n",
    "     return [transmf[row['dt_geracao_titulo']] if row['dt_geracao_titulo'] in transmf else None,\n",
    "             ]"
   ]
  },
  {
   "cell_type": "code",
   "execution_count": 55,
   "metadata": {},
   "outputs": [],
   "source": [
    "table3 = etl.rowmap(table2, rowmapper,\n",
    "                     header=['mes_competencia', 'fk_beneficiario','fk_empresa','dt_geracao_titulo','dt_pgto','nr_centro_custo','descricao_centro_custo','tipo_cobranca','vl_cobranca','vl_pago','tipo_cobranca_sub'])"
   ]
  },
  {
   "cell_type": "code",
   "execution_count": 56,
   "metadata": {},
   "outputs": [
    {
     "data": {
      "text/html": [
       "<table class='petl'>\n",
       "<thead>\n",
       "<tr>\n",
       "<th>mes_competencia</th>\n",
       "<th>fk_beneficiario</th>\n",
       "<th>fk_empresa</th>\n",
       "<th>dt_geracao_titulo</th>\n",
       "<th>dt_pgto</th>\n",
       "<th>nr_centro_custo</th>\n",
       "<th>descricao_centro_custo</th>\n",
       "<th>tipo_cobranca</th>\n",
       "<th>vl_cobranca</th>\n",
       "<th>vl_pago</th>\n",
       "<th>tipo_cobranca_sub</th>\n",
       "</tr>\n",
       "</thead>\n",
       "<tbody>\n",
       "</tbody>\n",
       "</table>\n"
      ],
      "text/plain": [
       "+-----------------+-----------------+------------+-------------------+---------+-----------------+------------------------+---------------+-------------+---------+-------------------+\n",
       "| mes_competencia | fk_beneficiario | fk_empresa | dt_geracao_titulo | dt_pgto | nr_centro_custo | descricao_centro_custo | tipo_cobranca | vl_cobranca | vl_pago | tipo_cobranca_sub |\n",
       "+=================+=================+============+===================+=========+=================+========================+===============+=============+=========+===================+"
      ]
     },
     "execution_count": 56,
     "metadata": {},
     "output_type": "execute_result"
    }
   ],
   "source": [
    "table3"
   ]
  }
 ],
 "metadata": {
  "kernelspec": {
   "display_name": "Python 3",
   "language": "python",
   "name": "python3"
  },
  "language_info": {
   "codemirror_mode": {
    "name": "ipython",
    "version": 3
   },
   "file_extension": ".py",
   "mimetype": "text/x-python",
   "name": "python",
   "nbconvert_exporter": "python",
   "pygments_lexer": "ipython3",
   "version": "3.7.4"
  }
 },
 "nbformat": 4,
 "nbformat_minor": 4
}
