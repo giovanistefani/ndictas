{
 "cells": [
  {
   "cell_type": "code",
   "execution_count": 1,
   "metadata": {},
   "outputs": [],
   "source": [
    "%config IPCompleter.greedy=True\n",
    "import os.path\n",
    "import csv\n",
    "import sys\n",
    "csv.field_size_limit(sys.maxsize)\n",
    "import petl as etl\n",
    "from collections import OrderedDict\n",
    "from azure.storage.blob import BlobServiceClient, ContainerClient, BlobClient, BlobBlock"
   ]
  },
  {
   "cell_type": "code",
   "execution_count": 2,
   "metadata": {},
   "outputs": [],
   "source": [
    "account_name='datalake2dictas'\n",
    "account_key='wlxJHcWvtVhPpL/zs6l+F1bJGKZnJ4HppZcVyh+ns32oH46E3dY/HBLau3V6um9hv+KZf/3mXEAL5nHD41X3jg=='\n",
    "container_from = 'transient'\n",
    "container_to = 'raw'\n",
    "upload_file = '/opt/jupyter_etl_dictas/datalake/transient/beneficiario/beneficiarios_atualizado.csv'\n",
    "_LOCALDIR = '/opt/jupyter_etl_dictas/datalake/transient'"
   ]
  },
  {
   "cell_type": "code",
   "execution_count": 3,
   "metadata": {},
   "outputs": [],
   "source": [
    "cc_transient = ContainerClient(account_url=f\"https://{account_name}.blob.core.windows.net/\",container_name=container_from, credential=account_key)\n",
    "cc_raw = ContainerClient(account_url=f\"https://{account_name}.blob.core.windows.net/\",container_name=container_to, credential=account_key)\n"
   ]
  },
  {
   "cell_type": "code",
   "execution_count": 4,
   "metadata": {},
   "outputs": [],
   "source": [
    "_TEMP_FILE='datalake/temp'\n",
    "_METADADOS='metadado/list.csv'\n",
    "_SOURCE='17'\n",
    "_PROC_FILES='datalake/proc'\n",
    "_NM_ARQ = 'RECEITAS.csv'"
   ]
  },
  {
   "cell_type": "markdown",
   "metadata": {},
   "source": [
    "### Carrega blob Custos"
   ]
  },
  {
   "cell_type": "markdown",
   "metadata": {},
   "source": [
    "#### Verifica Arquivo no Container"
   ]
  },
  {
   "cell_type": "code",
   "execution_count": 5,
   "metadata": {},
   "outputs": [
    {
     "name": "stdout",
     "output_type": "stream",
     "text": [
      "BENEFICIARIO.csv\n",
      "\n",
      "CONSULTAS.csv\n",
      "\n",
      "CUSTOS.csv\n",
      "\n",
      "DIARIAS.csv\n",
      "\n",
      "EMPRESA.csv\n",
      "\n",
      "PRESTADORES.csv\n",
      "\n",
      "RECEITAS.csv\n",
      "\n",
      "SERVICOS.csv\n",
      "\n"
     ]
    }
   ],
   "source": [
    "blob_list = cc_transient.list_blobs()\n",
    "for blob in blob_list:\n",
    "    print(blob.name + '\\n')\n",
    "    "
   ]
  },
  {
   "cell_type": "markdown",
   "metadata": {},
   "source": [
    "#### Faz Download para diretório local"
   ]
  },
  {
   "cell_type": "code",
   "execution_count": 6,
   "metadata": {},
   "outputs": [],
   "source": [
    "with open (f'{_PROC_FILES}/{_SOURCE}/{_NM_ARQ}', 'wb') as data_from :\n",
    "    data_from.write(cc_transient.get_blob_client(_NM_ARQ).download_blob ().readall ())"
   ]
  },
  {
   "cell_type": "markdown",
   "metadata": {},
   "source": [
    "#### Carrega dados para transformação"
   ]
  },
  {
   "cell_type": "code",
   "execution_count": 7,
   "metadata": {},
   "outputs": [
    {
     "data": {
      "text/html": [
       "<table class='petl'>\n",
       "<thead>\n",
       "<tr>\n",
       "<th>﻿mes_competencia</th>\n",
       "<th>fk_beneficiario</th>\n",
       "<th>fk_empresa</th>\n",
       "<th>dt_geracao_titulo</th>\n",
       "<th>dt_pgto</th>\n",
       "<th>nr_centro_custo</th>\n",
       "<th>descricao_centro_custo</th>\n",
       "<th>tipo_cobranca</th>\n",
       "<th>vl_cobranca</th>\n",
       "<th>vl_pago</th>\n",
       "<th>tipo_cobranca_sub</th>\n",
       "</tr>\n",
       "</thead>\n",
       "<tbody>\n",
       "<tr>\n",
       "<td>082019\t</td>\n",
       "<td>00052543016021\t</td>\n",
       "<td>17155730000164\t</td>\n",
       "<td>20190826\t</td>\n",
       "<td>20190829\t</td>\n",
       "<td>NULL\t</td>\n",
       "<td>NULL\t</td>\n",
       "<td>PART\t</td>\n",
       "<td>687.47\t</td>\n",
       "<td>687.47\t</td>\n",
       "<td>NULL</td>\n",
       "</tr>\n",
       "<tr>\n",
       "<td>082019\t</td>\n",
       "<td>00052543016021\t</td>\n",
       "<td>17155730000164\t</td>\n",
       "<td>20190826\t</td>\n",
       "<td>20190829\t</td>\n",
       "<td>NULL\t</td>\n",
       "<td>NULL\t</td>\n",
       "<td>CONT\t</td>\n",
       "<td>16.47\t</td>\n",
       "<td>16.47\t</td>\n",
       "<td>NULL</td>\n",
       "</tr>\n",
       "<tr>\n",
       "<td>082019\t</td>\n",
       "<td>00053359016231\t</td>\n",
       "<td>17155730000164\t</td>\n",
       "<td>20190826\t</td>\n",
       "<td>20190730\t</td>\n",
       "<td>NULL\t</td>\n",
       "<td>NULL\t</td>\n",
       "<td>PART\t</td>\n",
       "<td>687.47\t</td>\n",
       "<td>687.47\t</td>\n",
       "<td>NULL</td>\n",
       "</tr>\n",
       "<tr>\n",
       "<td>082019\t</td>\n",
       "<td>00052655016048\t</td>\n",
       "<td>17155730000164\t</td>\n",
       "<td>20190826\t</td>\n",
       "<td>20190730\t</td>\n",
       "<td>NULL\t</td>\n",
       "<td>NULL\t</td>\n",
       "<td>PART\t</td>\n",
       "<td>687.47\t</td>\n",
       "<td>687.47\t</td>\n",
       "<td>NULL</td>\n",
       "</tr>\n",
       "<tr>\n",
       "<td>082019\t</td>\n",
       "<td>00052655016048\t</td>\n",
       "<td>17155730000164\t</td>\n",
       "<td>20190826\t</td>\n",
       "<td>20190730\t</td>\n",
       "<td>NULL\t</td>\n",
       "<td>NULL\t</td>\n",
       "<td>PART\t</td>\n",
       "<td>53.53\t</td>\n",
       "<td>53.53\t</td>\n",
       "<td>NULL</td>\n",
       "</tr>\n",
       "</tbody>\n",
       "</table>\n",
       "<p><strong>...</strong></p>"
      ],
      "text/plain": [
       "+------------------+--------------------+--------------------+-------------------+--------------+-----------------+------------------------+---------------+-------------+------------+-------------------+\n",
       "| ﻿mes_competencia | fk_beneficiario    | fk_empresa         | dt_geracao_titulo | dt_pgto      | nr_centro_custo | descricao_centro_custo | tipo_cobranca | vl_cobranca | vl_pago    | tipo_cobranca_sub |\n",
       "+==================+====================+====================+===================+==============+=================+========================+===============+=============+============+===================+\n",
       "| '082019\\t'       | '00052543016021\\t' | '17155730000164\\t' | '20190826\\t'      | '20190829\\t' | 'NULL\\t'        | 'NULL\\t'               | 'PART\\t'      | '687.47\\t'  | '687.47\\t' | 'NULL'            |\n",
       "+------------------+--------------------+--------------------+-------------------+--------------+-----------------+------------------------+---------------+-------------+------------+-------------------+\n",
       "| '082019\\t'       | '00052543016021\\t' | '17155730000164\\t' | '20190826\\t'      | '20190829\\t' | 'NULL\\t'        | 'NULL\\t'               | 'CONT\\t'      | '16.47\\t'   | '16.47\\t'  | 'NULL'            |\n",
       "+------------------+--------------------+--------------------+-------------------+--------------+-----------------+------------------------+---------------+-------------+------------+-------------------+\n",
       "| '082019\\t'       | '00053359016231\\t' | '17155730000164\\t' | '20190826\\t'      | '20190730\\t' | 'NULL\\t'        | 'NULL\\t'               | 'PART\\t'      | '687.47\\t'  | '687.47\\t' | 'NULL'            |\n",
       "+------------------+--------------------+--------------------+-------------------+--------------+-----------------+------------------------+---------------+-------------+------------+-------------------+\n",
       "| '082019\\t'       | '00052655016048\\t' | '17155730000164\\t' | '20190826\\t'      | '20190730\\t' | 'NULL\\t'        | 'NULL\\t'               | 'PART\\t'      | '687.47\\t'  | '687.47\\t' | 'NULL'            |\n",
       "+------------------+--------------------+--------------------+-------------------+--------------+-----------------+------------------------+---------------+-------------+------------+-------------------+\n",
       "| '082019\\t'       | '00052655016048\\t' | '17155730000164\\t' | '20190826\\t'      | '20190730\\t' | 'NULL\\t'        | 'NULL\\t'               | 'PART\\t'      | '53.53\\t'   | '53.53\\t'  | 'NULL'            |\n",
       "+------------------+--------------------+--------------------+-------------------+--------------+-----------------+------------------------+---------------+-------------+------------+-------------------+\n",
       "..."
      ]
     },
     "execution_count": 7,
     "metadata": {},
     "output_type": "execute_result"
    }
   ],
   "source": [
    "table = etl.fromcsv(f'{_PROC_FILES}/{_SOURCE}/{_NM_ARQ}', delimiter='|')\n",
    "table"
   ]
  },
  {
   "cell_type": "code",
   "execution_count": 11,
   "metadata": {},
   "outputs": [
    {
     "data": {
      "text/html": [
       "<table class='petl'>\n",
       "<thead>\n",
       "<tr>\n",
       "<th>mes_competencia</th>\n",
       "<th>fk_beneficiario</th>\n",
       "<th>fk_empresa</th>\n",
       "<th>dt_geracao_titulo</th>\n",
       "<th>dt_pgto</th>\n",
       "<th>nr_centro_custo</th>\n",
       "<th>descricao_centro_custo</th>\n",
       "<th>tipo_cobranca</th>\n",
       "<th>vl_cobranca</th>\n",
       "<th>vl_pago</th>\n",
       "<th>tipo_cobranca_sub</th>\n",
       "</tr>\n",
       "</thead>\n",
       "<tbody>\n",
       "<tr>\n",
       "<td>082019</td>\n",
       "<td>00052543016021</td>\n",
       "<td>17155730000164</td>\n",
       "<td>20190826</td>\n",
       "<td>20190829</td>\n",
       "<td></td>\n",
       "<td></td>\n",
       "<td>PART</td>\n",
       "<td>687.47</td>\n",
       "<td>687.47</td>\n",
       "<td></td>\n",
       "</tr>\n",
       "<tr>\n",
       "<td>082019</td>\n",
       "<td>00052543016021</td>\n",
       "<td>17155730000164</td>\n",
       "<td>20190826</td>\n",
       "<td>20190829</td>\n",
       "<td></td>\n",
       "<td></td>\n",
       "<td>CONT</td>\n",
       "<td>16.47</td>\n",
       "<td>16.47</td>\n",
       "<td></td>\n",
       "</tr>\n",
       "<tr>\n",
       "<td>082019</td>\n",
       "<td>00053359016231</td>\n",
       "<td>17155730000164</td>\n",
       "<td>20190826</td>\n",
       "<td>20190730</td>\n",
       "<td></td>\n",
       "<td></td>\n",
       "<td>PART</td>\n",
       "<td>687.47</td>\n",
       "<td>687.47</td>\n",
       "<td></td>\n",
       "</tr>\n",
       "<tr>\n",
       "<td>082019</td>\n",
       "<td>00052655016048</td>\n",
       "<td>17155730000164</td>\n",
       "<td>20190826</td>\n",
       "<td>20190730</td>\n",
       "<td></td>\n",
       "<td></td>\n",
       "<td>PART</td>\n",
       "<td>687.47</td>\n",
       "<td>687.47</td>\n",
       "<td></td>\n",
       "</tr>\n",
       "<tr>\n",
       "<td>082019</td>\n",
       "<td>00052655016048</td>\n",
       "<td>17155730000164</td>\n",
       "<td>20190826</td>\n",
       "<td>20190730</td>\n",
       "<td></td>\n",
       "<td></td>\n",
       "<td>PART</td>\n",
       "<td>53.53</td>\n",
       "<td>53.53</td>\n",
       "<td></td>\n",
       "</tr>\n",
       "</tbody>\n",
       "</table>\n",
       "<p><strong>...</strong></p>"
      ],
      "text/plain": [
       "+-----------------+------------------+------------------+-------------------+------------+-----------------+------------------------+---------------+-------------+----------+-------------------+\n",
       "| mes_competencia | fk_beneficiario  | fk_empresa       | dt_geracao_titulo | dt_pgto    | nr_centro_custo | descricao_centro_custo | tipo_cobranca | vl_cobranca | vl_pago  | tipo_cobranca_sub |\n",
       "+=================+==================+==================+===================+============+=================+========================+===============+=============+==========+===================+\n",
       "| '082019'        | '00052543016021' | '17155730000164' | '20190826'        | '20190829' | ''              | ''                     | 'PART'        | '687.47'    | '687.47' | ''                |\n",
       "+-----------------+------------------+------------------+-------------------+------------+-----------------+------------------------+---------------+-------------+----------+-------------------+\n",
       "| '082019'        | '00052543016021' | '17155730000164' | '20190826'        | '20190829' | ''              | ''                     | 'CONT'        | '16.47'     | '16.47'  | ''                |\n",
       "+-----------------+------------------+------------------+-------------------+------------+-----------------+------------------------+---------------+-------------+----------+-------------------+\n",
       "| '082019'        | '00053359016231' | '17155730000164' | '20190826'        | '20190730' | ''              | ''                     | 'PART'        | '687.47'    | '687.47' | ''                |\n",
       "+-----------------+------------------+------------------+-------------------+------------+-----------------+------------------------+---------------+-------------+----------+-------------------+\n",
       "| '082019'        | '00052655016048' | '17155730000164' | '20190826'        | '20190730' | ''              | ''                     | 'PART'        | '687.47'    | '687.47' | ''                |\n",
       "+-----------------+------------------+------------------+-------------------+------------+-----------------+------------------------+---------------+-------------+----------+-------------------+\n",
       "| '082019'        | '00052655016048' | '17155730000164' | '20190826'        | '20190730' | ''              | ''                     | 'PART'        | '53.53'     | '53.53'  | ''                |\n",
       "+-----------------+------------------+------------------+-------------------+------------+-----------------+------------------------+---------------+-------------+----------+-------------------+\n",
       "..."
      ]
     },
     "execution_count": 11,
     "metadata": {},
     "output_type": "execute_result"
    }
   ],
   "source": [
    "#Transforma sexo e tira os espaços vazios e substitui string 'NULL' por ''\n",
    "def rowmapper(row):\n",
    "    strnull = {'NULL':''}\n",
    "    return [row[0].strip(),\n",
    "            row[1].strip(),\n",
    "            row[2].strip(),\n",
    "            row[3].strip(),\n",
    "            row[4].strip(),\n",
    "            strnull[row['nr_centro_custo'].strip()] if row['nr_centro_custo'].strip() in strnull else row['nr_centro_custo'].strip(),\n",
    "            strnull[row['descricao_centro_custo'].strip()] if row['descricao_centro_custo'].strip() in strnull else row['descricao_centro_custo'].strip(),\n",
    "            row[7].strip(),\n",
    "            row[8].strip(),\n",
    "            row[9].strip(),\n",
    "            strnull[row['tipo_cobranca_sub'].strip()] if row['tipo_cobranca_sub'].strip() in strnull else row['tipo_cobranca_sub'].strip()\n",
    "            ]\n",
    "\n",
    "table1 = etl.rowmap(table, rowmapper,\n",
    "                    header=['mes_competencia','fk_beneficiario','fk_empresa','dt_geracao_titulo',\n",
    "                            'dt_pgto','nr_centro_custo','descricao_centro_custo','tipo_cobranca',\n",
    "                            'vl_cobranca','vl_pago','tipo_cobranca_sub'\n",
    "                           ])\n",
    "table1"
   ]
  },
  {
   "cell_type": "markdown",
   "metadata": {},
   "source": [
    "#### Add fk_empresa"
   ]
  },
  {
   "cell_type": "code",
   "execution_count": 13,
   "metadata": {},
   "outputs": [],
   "source": [
    "table2 = etl.addfields(table1,[('cd_empresa',_SOURCE)])\n",
    "#table2\n",
    "etl.tocsv(table2, f'{_PROC_FILES}/{_SOURCE}/t{_NM_ARQ}', delimiter='|')"
   ]
  },
  {
   "cell_type": "code",
   "execution_count": 14,
   "metadata": {},
   "outputs": [
    {
     "name": "stdout",
     "output_type": "stream",
     "text": [
      "Tudo carregado\n"
     ]
    }
   ],
   "source": [
    "upload_file=f'{_PROC_FILES}/{_SOURCE}/t{_NM_ARQ}'\n",
    "#print(upload_file)\n",
    "try:\n",
    "    with open (upload_file, \"rb\") as data :\n",
    "        #print(data)\n",
    "        cc_raw.upload_blob(_NM_ARQ, data, overwrite = True)\n",
    "finally:\n",
    "    print(\"Tudo carregado\")"
   ]
  },
  {
   "cell_type": "markdown",
   "metadata": {},
   "source": [
    "#### Verifica se arquivo está no Blob"
   ]
  },
  {
   "cell_type": "code",
   "execution_count": 15,
   "metadata": {},
   "outputs": [
    {
     "name": "stdout",
     "output_type": "stream",
     "text": [
      "BENEFICIARIO.csv\n",
      "\n",
      "CONSULTAS.csv\n",
      "\n",
      "CUSTOS.csv\n",
      "\n",
      "DIARIAS.csv\n",
      "\n",
      "EMPRESA.csv\n",
      "\n",
      "PRESTADORES.csv\n",
      "\n",
      "RECEITAS.csv\n",
      "\n",
      "SERVICOS.csv\n",
      "\n"
     ]
    }
   ],
   "source": [
    "blob_list = cc_raw.list_blobs()\n",
    "for blob in blob_list:\n",
    "    print(blob.name + '\\n')"
   ]
  }
 ],
 "metadata": {
  "kernelspec": {
   "display_name": "Python 3",
   "language": "python",
   "name": "python3"
  },
  "language_info": {
   "codemirror_mode": {
    "name": "ipython",
    "version": 3
   },
   "file_extension": ".py",
   "mimetype": "text/x-python",
   "name": "python",
   "nbconvert_exporter": "python",
   "pygments_lexer": "ipython3",
   "version": "3.7.4"
  }
 },
 "nbformat": 4,
 "nbformat_minor": 4
}
