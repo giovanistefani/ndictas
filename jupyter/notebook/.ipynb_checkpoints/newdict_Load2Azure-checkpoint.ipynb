{
 "cells": [
  {
   "cell_type": "markdown",
   "metadata": {},
   "source": [
    "### Imports"
   ]
  },
  {
   "cell_type": "code",
   "execution_count": 86,
   "metadata": {},
   "outputs": [],
   "source": [
    "import glob\n",
    "import os\n",
    "import petl as etl\n",
    "import pickle\n",
    "import re"
   ]
  },
  {
   "cell_type": "markdown",
   "metadata": {},
   "source": [
    "### Cria lista de arquivos"
   ]
  },
  {
   "cell_type": "code",
   "execution_count": 87,
   "metadata": {},
   "outputs": [],
   "source": [
    "os.chdir(\"/datalake/Sinpef\")\n",
    "lista = []\n",
    "for i in glob.glob(\"*.csv\"):\n",
    "         lista.append(i)"
   ]
  },
  {
   "cell_type": "code",
   "execution_count": 88,
   "metadata": {},
   "outputs": [
    {
     "data": {
      "text/plain": [
       "['01 - empresas.csv',\n",
       " '05 - receitas_mensalidades.csv',\n",
       " '07 - custos_fechados.csv',\n",
       " '04 - beneficiarios.csv',\n",
       " '02 - prestadores.csv',\n",
       " '06 - receitas_coparticipacoes.csv',\n",
       " '03 - procedimentos.csv']"
      ]
     },
     "execution_count": 88,
     "metadata": {},
     "output_type": "execute_result"
    }
   ],
   "source": [
    "lista"
   ]
  },
  {
   "cell_type": "code",
   "execution_count": 89,
   "metadata": {},
   "outputs": [
    {
     "data": {
      "text/plain": [
       "'03 - procedimentos.csv'"
      ]
     },
     "execution_count": 89,
     "metadata": {},
     "output_type": "execute_result"
    }
   ],
   "source": [
    "nmtabela = lista.pop()\n",
    "nmtabela"
   ]
  },
  {
   "cell_type": "code",
   "execution_count": 91,
   "metadata": {},
   "outputs": [
    {
     "data": {
      "text/html": [
       "<table class='petl'>\n",
       "<thead>\n",
       "<tr>\n",
       "<th>Cod. Serviço</th>\n",
       "<th>Tipo</th>\n",
       "<th>Descrição</th>\n",
       "<th>Capitulo</th>\n",
       "<th>Grupo</th>\n",
       "<th>Subgrupo</th>\n",
       "<th>Dt. Inclusão</th>\n",
       "<th>Dt. Alteração</th>\n",
       "<th>Indicador Cirúrgico</th>\n",
       "<th></th>\n",
       "</tr>\n",
       "</thead>\n",
       "<tbody>\n",
       "<tr>\n",
       "<td>462</td>\n",
       "<td>NULL</td>\n",
       "<td>ACIDO URICO</td>\n",
       "<td>PROCEDIMENTO</td>\n",
       "<td>Exames Simples</td>\n",
       "<td>PATOLOGIA CLINICA</td>\n",
       "<td>NULL</td>\n",
       "<td>NULL</td>\n",
       "<td>NULL</td>\n",
       "<td></td>\n",
       "</tr>\n",
       "<tr>\n",
       "<td>463</td>\n",
       "<td>NULL</td>\n",
       "<td>ANTIGENO ESPECIFICO PROSTATICO TOTAL (PS</td>\n",
       "<td>PROCEDIMENTO</td>\n",
       "<td>Exames Simples</td>\n",
       "<td>PATOLOGIA CLINICA</td>\n",
       "<td>NULL</td>\n",
       "<td>NULL</td>\n",
       "<td>NULL</td>\n",
       "<td></td>\n",
       "</tr>\n",
       "<tr>\n",
       "<td>464</td>\n",
       "<td>NULL</td>\n",
       "<td>COLESTEROL (HDL)</td>\n",
       "<td>PROCEDIMENTO</td>\n",
       "<td>Exames Simples</td>\n",
       "<td>PATOLOGIA CLINICA</td>\n",
       "<td>NULL</td>\n",
       "<td>NULL</td>\n",
       "<td>NULL</td>\n",
       "<td></td>\n",
       "</tr>\n",
       "<tr>\n",
       "<td>465</td>\n",
       "<td>NULL</td>\n",
       "<td>COLESTEROL TOTAL</td>\n",
       "<td>PROCEDIMENTO</td>\n",
       "<td>Exames Simples</td>\n",
       "<td>PATOLOGIA CLINICA</td>\n",
       "<td>NULL</td>\n",
       "<td>NULL</td>\n",
       "<td>NULL</td>\n",
       "<td></td>\n",
       "</tr>\n",
       "<tr>\n",
       "<td>466</td>\n",
       "<td>NULL</td>\n",
       "<td>CREATININA</td>\n",
       "<td>PROCEDIMENTO</td>\n",
       "<td>Exames Simples</td>\n",
       "<td>PATOLOGIA CLINICA</td>\n",
       "<td>NULL</td>\n",
       "<td>NULL</td>\n",
       "<td>NULL</td>\n",
       "<td></td>\n",
       "</tr>\n",
       "</tbody>\n",
       "</table>\n",
       "<p><strong>...</strong></p>"
      ],
      "text/plain": [
       "+--------------+--------+--------------------------------------------+----------------+------------------+---------------------+--------------+---------------+---------------------+----+\n",
       "| Cod. Serviço | Tipo   | Descrição                                  | Capitulo       | Grupo            | Subgrupo            | Dt. Inclusão | Dt. Alteração | Indicador Cirúrgico |    |\n",
       "+==============+========+============================================+================+==================+=====================+==============+===============+=====================+====+\n",
       "| '462'        | 'NULL' | 'ACIDO URICO'                              | 'PROCEDIMENTO' | 'Exames Simples' | 'PATOLOGIA CLINICA' | 'NULL'       | 'NULL'        | 'NULL'              | '' |\n",
       "+--------------+--------+--------------------------------------------+----------------+------------------+---------------------+--------------+---------------+---------------------+----+\n",
       "| '463'        | 'NULL' | 'ANTIGENO ESPECIFICO PROSTATICO TOTAL (PS' | 'PROCEDIMENTO' | 'Exames Simples' | 'PATOLOGIA CLINICA' | 'NULL'       | 'NULL'        | 'NULL'              | '' |\n",
       "+--------------+--------+--------------------------------------------+----------------+------------------+---------------------+--------------+---------------+---------------------+----+\n",
       "| '464'        | 'NULL' | 'COLESTEROL (HDL)'                         | 'PROCEDIMENTO' | 'Exames Simples' | 'PATOLOGIA CLINICA' | 'NULL'       | 'NULL'        | 'NULL'              | '' |\n",
       "+--------------+--------+--------------------------------------------+----------------+------------------+---------------------+--------------+---------------+---------------------+----+\n",
       "| '465'        | 'NULL' | 'COLESTEROL TOTAL'                         | 'PROCEDIMENTO' | 'Exames Simples' | 'PATOLOGIA CLINICA' | 'NULL'       | 'NULL'        | 'NULL'              | '' |\n",
       "+--------------+--------+--------------------------------------------+----------------+------------------+---------------------+--------------+---------------+---------------------+----+\n",
       "| '466'        | 'NULL' | 'CREATININA'                               | 'PROCEDIMENTO' | 'Exames Simples' | 'PATOLOGIA CLINICA' | 'NULL'       | 'NULL'        | 'NULL'              | '' |\n",
       "+--------------+--------+--------------------------------------------+----------------+------------------+---------------------+--------------+---------------+---------------------+----+\n",
       "..."
      ]
     },
     "execution_count": 91,
     "metadata": {},
     "output_type": "execute_result"
    }
   ],
   "source": [
    "tb_carga = etl.fromcsv('/datalake/Sinpef/'+nmtabela, delimiter='|',encoding='Latin')\n",
    "#etl.nrows(tb_carga)\n",
    "tb_carga"
   ]
  },
  {
   "cell_type": "code",
   "execution_count": null,
   "metadata": {},
   "outputs": [],
   "source": [
    "table1 = etl.frompickle('example.p')"
   ]
  }
 ],
 "metadata": {
  "kernelspec": {
   "display_name": "Python 3",
   "language": "python",
   "name": "python3"
  },
  "language_info": {
   "codemirror_mode": {
    "name": "ipython",
    "version": 3
   },
   "file_extension": ".py",
   "mimetype": "text/x-python",
   "name": "python",
   "nbconvert_exporter": "python",
   "pygments_lexer": "ipython3",
   "version": "3.7.4"
  }
 },
 "nbformat": 4,
 "nbformat_minor": 4
}
