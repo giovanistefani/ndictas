{
 "cells": [
  {
   "cell_type": "code",
   "execution_count": 2,
   "metadata": {},
   "outputs": [],
   "source": [
    "import os\n",
    "from azure.storage.blob import BlobServiceClient, ContainerClient, BlobClient, BlobBlock\n",
    "import pandas as pd\n",
    "import io\n",
    "import csv\n",
    "import re"
   ]
  },
  {
   "cell_type": "code",
   "execution_count": 3,
   "metadata": {},
   "outputs": [],
   "source": [
    "account_name='datalake2dictas'\n",
    "account_key='wlxJHcWvtVhPpL/zs6l+F1bJGKZnJ4HppZcVyh+ns32oH46E3dY/HBLau3V6um9hv+KZf/3mXEAL5nHD41X3jg=='\n",
    "container_from = 'transient'\n",
    "container_to = 'raw'\n",
    "upload_file = '/opt/jupyter_etl_dictas/datalake/transient/beneficiario/beneficiarios_atualizado.csv'\n",
    "_LOCALDIR = '/opt/jupyter_etl_dictas/datalake/transient'"
   ]
  },
  {
   "cell_type": "code",
   "execution_count": 4,
   "metadata": {},
   "outputs": [],
   "source": [
    "cc_from = ContainerClient(account_url=f\"https://{account_name}.blob.core.windows.net/\",container_name=container_from, credential=account_key)\n",
    "cc_to = ContainerClient(account_url=f\"https://{account_name}.blob.core.windows.net/\",container_name=container_to, credential=account_key)\n",
    "cc_trusted = ContainerClient(account_url=f\"https://{account_name}.blob.core.windows.net/\",container_name='trusted', credential=account_key)"
   ]
  },
  {
   "cell_type": "code",
   "execution_count": 13,
   "metadata": {},
   "outputs": [],
   "source": [
    "for x in cc_trusted.list_blobs ():\n",
    "    z = cc_trusted.get_blob_client(x)\n",
    "    z.delete_blob()"
   ]
  },
  {
   "cell_type": "code",
   "execution_count": 20,
   "metadata": {},
   "outputs": [],
   "source": [
    "for x in cc_from.list_blobs ():\n",
    "    z = cc_from.get_blob_client(x)\n",
    "    z.delete_blob()\n",
    "\n",
    "for x in cc_to.list_blobs ():\n",
    "    z = cc_to.get_blob_client(x)\n",
    "    z.delete_blob()\n",
    "\n",
    "for x in cc_trusted.list_blobs ():\n",
    "    z = cc_trusted.get_blob_client(x)\n",
    "    z.delete_blob()    "
   ]
  },
  {
   "cell_type": "code",
   "execution_count": 5,
   "metadata": {},
   "outputs": [],
   "source": [
    "ldatalake_from = [file['name'].replace('.csv','') for file in cc_from.list_blobs ()]\n",
    "ldatalake_to = [file['name'].replace('.pickle','') for file in cc_to.list_blobs ()]\n",
    "ldatalake_trusted = [file['name'] for file in cc_trusted.list_blobs ()]"
   ]
  },
  {
   "cell_type": "code",
   "execution_count": 6,
   "metadata": {},
   "outputs": [
    {
     "data": {
      "text/plain": [
       "['beneficiario/BENEFICIARIOS.pkl',\n",
       " 'beneficiario/BENEFICIARIOS_error.pkl',\n",
       " 'consultas/CONSULTAS.pkl',\n",
       " 'custo/CUSTO 122018.pkl',\n",
       " 'diarias/DIARIAS.pkl',\n",
       " 'empresa/EMPRESA.pkl',\n",
       " 'prestador/PRESTADORES.pkl',\n",
       " 'prestador/PRESTADORES_error.pkl',\n",
       " 'receitas/RECEITA 122018.pkl',\n",
       " 'servico/SERVICOS.pkl',\n",
       " 'vidas/VIDAS 122018.pkl']"
      ]
     },
     "execution_count": 6,
     "metadata": {},
     "output_type": "execute_result"
    }
   ],
   "source": [
    "ldatalake_trusted"
   ]
  },
  {
   "cell_type": "code",
   "execution_count": null,
   "metadata": {},
   "outputs": [],
   "source": [
    "print(len(ldatalake_from), len(ldatalake_to), len(ldatalake_trusted))"
   ]
  },
  {
   "cell_type": "code",
   "execution_count": null,
   "metadata": {},
   "outputs": [],
   "source": [
    "['beneficiario/BENEFICIARIOS','consultas/CONSULTAS','diarias/DIARIAS','empresa/EMPRESA','prestador/PRESTADORES','vidas/VIDAS']"
   ]
  },
  {
   "cell_type": "code",
   "execution_count": null,
   "metadata": {},
   "outputs": [],
   "source": [
    "ldatalake_from"
   ]
  },
  {
   "cell_type": "code",
   "execution_count": null,
   "metadata": {},
   "outputs": [],
   "source": [
    "bc = cc_to.get_blob_client('custo/CUSTO 122018.pickle')"
   ]
  },
  {
   "cell_type": "code",
   "execution_count": null,
   "metadata": {},
   "outputs": [],
   "source": [
    "%%time\n",
    "with open('/opt/jupyter_etl_dictas/notebook/CUSTO 122018.pickle','wb') as data_from:\n",
    "    data_from.write(bc.download_blob().readall())    "
   ]
  },
  {
   "cell_type": "code",
   "execution_count": null,
   "metadata": {},
   "outputs": [],
   "source": [
    "df = pd.read_pickle('/opt/jupyter_etl_dictas/notebook/CUSTO 122018.pickle')"
   ]
  },
  {
   "cell_type": "code",
   "execution_count": null,
   "metadata": {},
   "outputs": [],
   "source": [
    "df.head()"
   ]
  },
  {
   "cell_type": "code",
   "execution_count": null,
   "metadata": {},
   "outputs": [],
   "source": [
    "df.head(1).T"
   ]
  },
  {
   "cell_type": "code",
   "execution_count": null,
   "metadata": {},
   "outputs": [],
   "source": [
    "def replacevalue(df, val, replace_val) :\n",
    "    for col in df.columns :\n",
    "        df[col] = df[col].apply (lambda x :re.sub (val, replace_val, str (x)))\n",
    "    return df"
   ]
  },
  {
   "cell_type": "code",
   "execution_count": null,
   "metadata": {},
   "outputs": [],
   "source": [
    "df2 = df.copy()"
   ]
  },
  {
   "cell_type": "code",
   "execution_count": null,
   "metadata": {},
   "outputs": [],
   "source": [
    "df2 = replacevalue(df2,r'nan|NULL|[\\t]','')\n",
    "df2 = df2.apply (lambda x :x.str.strip ().replace ('', None))"
   ]
  },
  {
   "cell_type": "code",
   "execution_count": null,
   "metadata": {},
   "outputs": [],
   "source": [
    "df2['nr_guia_principal'].apply(lambda x: '-1' if x=='' else x).astype(int)"
   ]
  },
  {
   "cell_type": "code",
   "execution_count": null,
   "metadata": {},
   "outputs": [],
   "source": [
    "df2[df2['nr_guia_principal']=='VT']"
   ]
  },
  {
   "cell_type": "code",
   "execution_count": null,
   "metadata": {},
   "outputs": [],
   "source": [
    "cols_integer = ['Cod. Beneficiário', 'Nr. Carteira', 'Nr. Carteira Titular', \n",
    "            'Cod. Empresa', 'CPF', 'Cod. Plano']"
   ]
  },
  {
   "cell_type": "code",
   "execution_count": null,
   "metadata": {},
   "outputs": [],
   "source": [
    "df2[cols_integer].apply(lambda x : x.str.strip().replace('',None)).astype(int)"
   ]
  },
  {
   "cell_type": "code",
   "execution_count": null,
   "metadata": {},
   "outputs": [],
   "source": [
    "def transform_to_datetime(dt_in_string, date_format='%d/%m/%Y'):\n",
    "    if dt_in_string == '':\n",
    "        return None\n",
    "    else:\n",
    "        try:\n",
    "            df_in_datime = pd.to_datetime(dt_in_string, format=date_format)\n",
    "            return df_in_datime\n",
    "        except pd.errors.OutOfBoundsDatetime:\n",
    "            return None"
   ]
  },
  {
   "cell_type": "code",
   "execution_count": null,
   "metadata": {},
   "outputs": [],
   "source": [
    "df2[['Dt. Nascimento','Dt. Inclusão']].apply(pd.to_datetime,format='%d/%m/%Y', errors='coerce')"
   ]
  },
  {
   "cell_type": "code",
   "execution_count": null,
   "metadata": {},
   "outputs": [],
   "source": [
    "df2.head(30).T.reset_index()"
   ]
  },
  {
   "cell_type": "code",
   "execution_count": null,
   "metadata": {},
   "outputs": [],
   "source": [
    "def sel_no_int_cols(cols):\n",
    "    validatecols = []\n",
    "    for col in cols:\n",
    "        try:\n",
    "            int(col)\n",
    "        except:\n",
    "            validatecols.append(col)\n",
    "    return validatecols        "
   ]
  },
  {
   "cell_type": "code",
   "execution_count": null,
   "metadata": {},
   "outputs": [],
   "source": [
    "df2 = df2[selectnointegercol(df2.columns)]"
   ]
  },
  {
   "cell_type": "code",
   "execution_count": null,
   "metadata": {},
   "outputs": [],
   "source": [
    "df2.dtypes"
   ]
  },
  {
   "cell_type": "code",
   "execution_count": null,
   "metadata": {},
   "outputs": [],
   "source": [
    "%%time\n",
    "dblob = bc.download_blob().readall()"
   ]
  },
  {
   "cell_type": "code",
   "execution_count": null,
   "metadata": {},
   "outputs": [],
   "source": [
    "bc.download_blob().readinto(stream=)"
   ]
  },
  {
   "cell_type": "code",
   "execution_count": null,
   "metadata": {},
   "outputs": [],
   "source": [
    "type(dblob)"
   ]
  },
  {
   "cell_type": "code",
   "execution_count": null,
   "metadata": {},
   "outputs": [],
   "source": [
    "df = pd.read_pickle(io.BytesIO(dblob))"
   ]
  },
  {
   "cell_type": "code",
   "execution_count": null,
   "metadata": {},
   "outputs": [],
   "source": [
    "len(list_c)"
   ]
  },
  {
   "cell_type": "code",
   "execution_count": null,
   "metadata": {},
   "outputs": [],
   "source": [
    "len(ldatalake_from)/3"
   ]
  },
  {
   "cell_type": "code",
   "execution_count": null,
   "metadata": {},
   "outputs": [],
   "source": [
    "len(ldatalake_from)"
   ]
  },
  {
   "cell_type": "code",
   "execution_count": null,
   "metadata": {},
   "outputs": [],
   "source": [
    "len(ldatalake_to)"
   ]
  },
  {
   "cell_type": "code",
   "execution_count": null,
   "metadata": {},
   "outputs": [],
   "source": [
    "bc = cc_to.get_blob_client('DIARIAS.csv')\n",
    "bc.delete_blob()"
   ]
  },
  {
   "cell_type": "code",
   "execution_count": null,
   "metadata": {},
   "outputs": [],
   "source": [
    "bc = cc_from.get_blob_client('receitas/RECEITA 032017.csv')"
   ]
  },
  {
   "cell_type": "code",
   "execution_count": null,
   "metadata": {},
   "outputs": [],
   "source": [
    "%%time\n",
    "dblob = bc.download_blob().readall()"
   ]
  },
  {
   "cell_type": "code",
   "execution_count": null,
   "metadata": {},
   "outputs": [],
   "source": [
    "df = pd.read_csv(io.BytesIO(dblob),sep=\"|\", \n",
    "                 error_bad_lines=False,encoding='utf8' , \n",
    "                 quoting=csv.QUOTE_NONE,\n",
    "                 low_memory=False,\n",
    "                 header=None)"
   ]
  },
  {
   "cell_type": "code",
   "execution_count": null,
   "metadata": {},
   "outputs": [],
   "source": [
    "df.shape"
   ]
  },
  {
   "cell_type": "code",
   "execution_count": null,
   "metadata": {},
   "outputs": [],
   "source": [
    "df.head()"
   ]
  },
  {
   "cell_type": "code",
   "execution_count": null,
   "metadata": {},
   "outputs": [],
   "source": [
    "prestador = ['Cod. Prestador', 'Nome', 'CRM', 'UF CRM', 'CPF/CNPJ', 'Tipo', 'Grupo', 'Descrição da Especialidade',\n",
    "    'Especialidade Principal']\n",
    "\n",
    "receitas = ['Mês Competência', 'Cod. Beneficiário', 'Cod. Empresa', 'Dt. Geração Título', 'Tipo Cobrança','Vl. Cobrança', 'Vl. Pago']\n",
    "\n",
    "lcol = [x for x in df.columns if x < len(receitas)]\n",
    "dict_prest = dict(zip(lcol,prestador))\n",
    "df.rename(columns=dict_prest)"
   ]
  },
  {
   "cell_type": "code",
   "execution_count": null,
   "metadata": {},
   "outputs": [],
   "source": [
    "df.shape"
   ]
  },
  {
   "cell_type": "code",
   "execution_count": null,
   "metadata": {},
   "outputs": [],
   "source": [
    "df.rename(columns=dict_prest)"
   ]
  },
  {
   "cell_type": "code",
   "execution_count": null,
   "metadata": {},
   "outputs": [],
   "source": [
    "len(prestador)"
   ]
  },
  {
   "cell_type": "code",
   "execution_count": null,
   "metadata": {},
   "outputs": [],
   "source": [
    "lcol = [x for x in df.columns if x < len(prestador)]"
   ]
  },
  {
   "cell_type": "code",
   "execution_count": null,
   "metadata": {},
   "outputs": [],
   "source": [
    "dict(zip(lcol,prestador))"
   ]
  },
  {
   "cell_type": "code",
   "execution_count": null,
   "metadata": {},
   "outputs": [],
   "source": [
    "bc.delete_blob()"
   ]
  },
  {
   "cell_type": "code",
   "execution_count": null,
   "metadata": {},
   "outputs": [],
   "source": [
    "bc.upload_blob()"
   ]
  },
  {
   "cell_type": "code",
   "execution_count": null,
   "metadata": {},
   "outputs": [],
   "source": [
    "ldatalake = [f\"{file['name']}\" for file in cc.list_blobs()]\n",
    "len(ldatalake)"
   ]
  },
  {
   "cell_type": "code",
   "execution_count": null,
   "metadata": {},
   "outputs": [],
   "source": [
    "ldatalake"
   ]
  },
  {
   "cell_type": "code",
   "execution_count": null,
   "metadata": {},
   "outputs": [],
   "source": [
    "llocal = [os.path.join(currentpath, file).replace(_LOCALDIR,'')[1:] \n",
    " for currentpath, folders, files in os.walk(_LOCALDIR) \n",
    " for file in files]\n",
    "len(llocal)"
   ]
  },
  {
   "cell_type": "code",
   "execution_count": null,
   "metadata": {},
   "outputs": [],
   "source": [
    "ldatalake = [f\"{file['name']}\" for file in cc.list_blobs()]"
   ]
  },
  {
   "cell_type": "code",
   "execution_count": null,
   "metadata": {},
   "outputs": [],
   "source": [
    "ldatalake = [f\"{file['name']}\" for file in cc.list_blobs()]\n",
    "\n",
    "llocal = [os.path.join(currentpath, file).replace(_LOCALDIR,'')[1:] \n",
    " for currentpath, folders, files in os.walk(_LOCALDIR) \n",
    " for file in files]\n",
    "\n",
    "ldiff = [file for file in llocal if file not in ldatalake]"
   ]
  },
  {
   "cell_type": "code",
   "execution_count": null,
   "metadata": {},
   "outputs": [],
   "source": [
    "'custos_competencia/CUSTO 042018.csv',\n",
    "'custos_atualizado/CUSTO 042018.csv',"
   ]
  },
  {
   "cell_type": "code",
   "execution_count": null,
   "metadata": {},
   "outputs": [],
   "source": [
    "ldiff"
   ]
  },
  {
   "cell_type": "code",
   "execution_count": null,
   "metadata": {},
   "outputs": [],
   "source": [
    "ldatalake"
   ]
  },
  {
   "cell_type": "code",
   "execution_count": null,
   "metadata": {},
   "outputs": [],
   "source": [
    "with open(f'{_LOCALDIR}/diff.txt','r') as diff:\n",
    "    a = [x for x in diff.read().split('\\n') if len(x)>0]"
   ]
  },
  {
   "cell_type": "code",
   "execution_count": null,
   "metadata": {},
   "outputs": [],
   "source": [
    "for x in a:\n",
    "    print(x.split('/')[2])"
   ]
  },
  {
   "cell_type": "code",
   "execution_count": 13,
   "metadata": {},
   "outputs": [],
   "source": [
    "l_test = []\n",
    "a = 'aa'\n",
    "b = 'bb'\n",
    "c='cc'\n",
    "d=None"
   ]
  },
  {
   "cell_type": "code",
   "execution_count": 9,
   "metadata": {},
   "outputs": [],
   "source": [
    "l_test.append(a)"
   ]
  },
  {
   "cell_type": "code",
   "execution_count": 11,
   "metadata": {},
   "outputs": [],
   "source": [
    "l_test.append(b)"
   ]
  },
  {
   "cell_type": "code",
   "execution_count": 14,
   "metadata": {},
   "outputs": [],
   "source": [
    "l_test.append(d)"
   ]
  },
  {
   "cell_type": "code",
   "execution_count": 15,
   "metadata": {},
   "outputs": [
    {
     "data": {
      "text/plain": [
       "[None]"
      ]
     },
     "execution_count": 15,
     "metadata": {},
     "output_type": "execute_result"
    }
   ],
   "source": [
    "l_test"
   ]
  },
  {
   "cell_type": "code",
   "execution_count": null,
   "metadata": {},
   "outputs": [],
   "source": []
  }
 ],
 "metadata": {
  "kernelspec": {
   "display_name": "Python 3",
   "language": "python",
   "name": "python3"
  },
  "language_info": {
   "codemirror_mode": {
    "name": "ipython",
    "version": 3
   },
   "file_extension": ".py",
   "mimetype": "text/x-python",
   "name": "python",
   "nbconvert_exporter": "python",
   "pygments_lexer": "ipython3",
   "version": "3.7.3"
  }
 },
 "nbformat": 4,
 "nbformat_minor": 4
}
