{
 "cells": [
  {
   "cell_type": "code",
   "execution_count": 1,
   "metadata": {},
   "outputs": [],
   "source": [
    "%config IPCompleter.greedy=True\n",
    "\n",
    "import os\n",
    "import re\n",
    "import petl as etl\n",
    "import csv\n",
    "import datetime\n",
    "\n",
    "from azure.storage.blob import ContainerClient\n",
    "from azure.storage.blob import BlobServiceClient\n"
   ]
  },
  {
   "cell_type": "markdown",
   "metadata": {},
   "source": [
    "## Conexão Blob"
   ]
  },
  {
   "cell_type": "code",
   "execution_count": 2,
   "metadata": {},
   "outputs": [],
   "source": [
    "account_name='datalake2dictas'\n",
    "account_key='wlxJHcWvtVhPpL/zs6l+F1bJGKZnJ4HppZcVyh+ns32oH46E3dY/HBLau3V6um9hv+KZf/3mXEAL5nHD41X3jg=='\n",
    "container_from = 'transient'\n",
    "container_to = 'raw'\n",
    "work_dir = '/home/giovani/Documentos/git/newdict/jupyter/datalake/temp_dir/'"
   ]
  },
  {
   "cell_type": "code",
   "execution_count": 3,
   "metadata": {},
   "outputs": [],
   "source": [
    "cc_transient = ContainerClient(account_url=f\"https://{account_name}.blob.core.windows.net/\",container_name=container_from, credential=account_key)\n",
    "cc_raw = ContainerClient(account_url=f\"https://{account_name}.blob.core.windows.net/\",container_name=container_to, credential=account_key)\n",
    "cc_trusted = ContainerClient(account_url=f\"https://{account_name}.blob.core.windows.net/\",container_name='trusted', credential=account_key)\n",
    "cc_refined = ContainerClient(account_url=f\"https://{account_name}.blob.core.windows.net/\",container_name='refined', credential=account_key)"
   ]
  },
  {
   "cell_type": "markdown",
   "metadata": {},
   "source": [
    "### Lista blobs"
   ]
  },
  {
   "cell_type": "code",
   "execution_count": 48,
   "metadata": {},
   "outputs": [],
   "source": [
    "# List the blobs in the container.\n",
    "lista=[]\n",
    "#print(\"\\nList blobs in the container\"+ '\\n')\n",
    "blob_list = cc_transient.list_blobs()\n",
    "for blob in blob_list:\n",
    "    #print(blob.name + '\\n')\n",
    "    lista.append(blob.name)\n"
   ]
  },
  {
   "cell_type": "code",
   "execution_count": 49,
   "metadata": {},
   "outputs": [
    {
     "data": {
      "text/plain": [
       "['beneficiario/BENEFICIARIOS.csv',\n",
       " 'consultas/CONSULTAS.csv',\n",
       " 'custo/CUSTO 012018.csv',\n",
       " 'custo/CUSTO 012019.csv',\n",
       " 'custo/CUSTO 022017.csv',\n",
       " 'custo/CUSTO 022018.csv',\n",
       " 'custo/CUSTO 022019.csv',\n",
       " 'custo/CUSTO 032017.csv',\n",
       " 'custo/CUSTO 032018.csv',\n",
       " 'custo/CUSTO 032019.csv',\n",
       " 'custo/CUSTO 042017.csv',\n",
       " 'custo/CUSTO 042018.csv',\n",
       " 'custo/CUSTO 042019.csv',\n",
       " 'custo/CUSTO 052017.csv',\n",
       " 'custo/CUSTO 052018.csv',\n",
       " 'custo/CUSTO 052019.csv',\n",
       " 'custo/CUSTO 062017.csv',\n",
       " 'custo/CUSTO 062018.csv',\n",
       " 'custo/CUSTO 062019.csv',\n",
       " 'custo/CUSTO 072017.csv',\n",
       " 'custo/CUSTO 072018.csv',\n",
       " 'custo/CUSTO 072019.csv',\n",
       " 'custo/CUSTO 082017.csv',\n",
       " 'custo/CUSTO 082018.csv',\n",
       " 'custo/CUSTO 082019.csv',\n",
       " 'custo/CUSTO 092017.csv',\n",
       " 'custo/CUSTO 092018.csv',\n",
       " 'custo/CUSTO 092019.csv',\n",
       " 'custo/CUSTO 102017.csv',\n",
       " 'custo/CUSTO 102018.csv',\n",
       " 'custo/CUSTO 112017.csv',\n",
       " 'custo/CUSTO 112018.csv',\n",
       " 'custo/CUSTO 122017.csv',\n",
       " 'custo/CUSTO 122018.csv',\n",
       " 'diarias/DIARIAS.csv',\n",
       " 'empresa/EMPRESA.csv',\n",
       " 'prestador/PRESTADORES.csv',\n",
       " 'receitas/RECEITA 012018.csv',\n",
       " 'receitas/RECEITA 012019.csv',\n",
       " 'receitas/RECEITA 022017.csv',\n",
       " 'receitas/RECEITA 022018.csv',\n",
       " 'receitas/RECEITA 022019.csv',\n",
       " 'receitas/RECEITA 032017.csv',\n",
       " 'receitas/RECEITA 032018.csv',\n",
       " 'receitas/RECEITA 032019.csv',\n",
       " 'receitas/RECEITA 042017.csv',\n",
       " 'receitas/RECEITA 042018.csv',\n",
       " 'receitas/RECEITA 042019.csv',\n",
       " 'receitas/RECEITA 052017.csv',\n",
       " 'receitas/RECEITA 052018.csv',\n",
       " 'receitas/RECEITA 052019.csv',\n",
       " 'receitas/RECEITA 062017.csv',\n",
       " 'receitas/RECEITA 062018.csv',\n",
       " 'receitas/RECEITA 062019.csv',\n",
       " 'receitas/RECEITA 072017.csv',\n",
       " 'receitas/RECEITA 072018.csv',\n",
       " 'receitas/RECEITA 072019.csv',\n",
       " 'receitas/RECEITA 082017.csv',\n",
       " 'receitas/RECEITA 082018.csv',\n",
       " 'receitas/RECEITA 082019.csv',\n",
       " 'receitas/RECEITA 092017.csv',\n",
       " 'receitas/RECEITA 092018.csv',\n",
       " 'receitas/RECEITA 092019.csv',\n",
       " 'receitas/RECEITA 102017.csv',\n",
       " 'receitas/RECEITA 102018.csv',\n",
       " 'receitas/RECEITA 102019.csv',\n",
       " 'receitas/RECEITA 112017.csv',\n",
       " 'receitas/RECEITA 112018.csv',\n",
       " 'receitas/RECEITA 122017.csv',\n",
       " 'receitas/RECEITA 122018.csv',\n",
       " 'servico/SERVICOS.csv',\n",
       " 'vidas/VIDAS 012018.csv',\n",
       " 'vidas/VIDAS 012019.csv',\n",
       " 'vidas/VIDAS 02-2017.csv',\n",
       " 'vidas/VIDAS 022018.csv',\n",
       " 'vidas/VIDAS 022019.csv',\n",
       " 'vidas/VIDAS 032017.csv',\n",
       " 'vidas/VIDAS 032018.csv',\n",
       " 'vidas/VIDAS 032019.csv',\n",
       " 'vidas/VIDAS 042017.csv',\n",
       " 'vidas/VIDAS 042018.csv',\n",
       " 'vidas/VIDAS 042019.csv',\n",
       " 'vidas/VIDAS 052017.csv',\n",
       " 'vidas/VIDAS 052018.csv',\n",
       " 'vidas/VIDAS 052019.csv',\n",
       " 'vidas/VIDAS 062017.csv',\n",
       " 'vidas/VIDAS 062018.csv',\n",
       " 'vidas/VIDAS 062019.csv',\n",
       " 'vidas/VIDAS 072017.csv',\n",
       " 'vidas/VIDAS 072018.csv',\n",
       " 'vidas/VIDAS 072019.csv',\n",
       " 'vidas/VIDAS 082017.csv',\n",
       " 'vidas/VIDAS 082018.csv',\n",
       " 'vidas/VIDAS 082019.csv',\n",
       " 'vidas/VIDAS 092017.csv',\n",
       " 'vidas/VIDAS 092018.csv',\n",
       " 'vidas/VIDAS 092019.csv',\n",
       " 'vidas/VIDAS 102017.csv',\n",
       " 'vidas/VIDAS 102018.csv',\n",
       " 'vidas/VIDAS 102019.csv',\n",
       " 'vidas/VIDAS 112017.csv',\n",
       " 'vidas/VIDAS 112018.csv',\n",
       " 'vidas/VIDAS 122017.csv',\n",
       " 'vidas/VIDAS 122018.csv']"
      ]
     },
     "execution_count": 49,
     "metadata": {},
     "output_type": "execute_result"
    }
   ],
   "source": [
    "lista"
   ]
  },
  {
   "cell_type": "code",
   "execution_count": 68,
   "metadata": {},
   "outputs": [],
   "source": [
    "def write_csv_file(lista, file):\n",
    "    \"\"\"\n",
    "    lines (lists of list): record content\n",
    "    header (list): titles\n",
    "    file = (string): path to file save\n",
    "    \"\"\"\n",
    "   \n",
    "    with open(file + '.csv', \"w\", newline='') as f:\n",
    "        writer = csv.writer(f, delimiter=',')\n",
    "        #writer.writerow(header)\n",
    "\n",
    "        for l in lines:\n",
    "            writer.writerow(l)"
   ]
  },
  {
   "cell_type": "code",
   "execution_count": null,
   "metadata": {},
   "outputs": [],
   "source": []
  }
 ],
 "metadata": {
  "kernelspec": {
   "display_name": "Python 3",
   "language": "python",
   "name": "python3"
  },
  "language_info": {
   "codemirror_mode": {
    "name": "ipython",
    "version": 3
   },
   "file_extension": ".py",
   "mimetype": "text/x-python",
   "name": "python",
   "nbconvert_exporter": "python",
   "pygments_lexer": "ipython3",
   "version": "3.7.4"
  }
 },
 "nbformat": 4,
 "nbformat_minor": 4
}
